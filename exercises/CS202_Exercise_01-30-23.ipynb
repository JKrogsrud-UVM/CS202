{
 "cells": [
  {
   "cell_type": "markdown",
   "metadata": {},
   "source": [
    "# CS202: Compiler Construction\n",
    "\n",
    "## In-class Exercises, Week of 01/30/2023"
   ]
  },
  {
   "cell_type": "markdown",
   "metadata": {},
   "source": [
    "----\n",
    "# Select-instructions\n",
    "\n",
    "The select-instructions pass transforms a sequence of statements into X86 assembly instructions.\n",
    "\n",
    "Consider the grammar of the input language:\n",
    "\n",
    "```\n",
    "op   ::= 'add'\n",
    "Atm  ::= Var(x) | Constant(n)\n",
    "Stmt ::= Assign(x, Prim(op, [Atm])) | Assign(x, Atm) | Print(Atm)\n",
    "LVar ::= Program([Stmt])\n",
    "```"
   ]
  },
  {
   "cell_type": "markdown",
   "metadata": {},
   "source": [
    "## Question 1\n",
    "\n",
    "Convert the following `Lvar` code into a psuedo-x86 assembly program.\n",
    "\n",
    "```\n",
    "Program([\n",
    "  Assign(\"y\", Constant(5)),\n",
    "  Assign(\"x\", Var(\"y\")),\n",
    "  Print(Var(\"x\"))\n",
    "])\n",
    "```"
   ]
  },
  {
   "cell_type": "markdown",
   "metadata": {},
   "source": [
    "\"\"\"\n",
    "movq $5, #y       ---   y is a variable in our pseudo language\n",
    "movq #y, #x\n",
    "movq #x, $rdi     ---   note the 1-1 mappig from previous language: sometimes 2 but not so bad\n",
    "callq print_int\n",
    "\"\"\""
   ]
  },
  {
   "cell_type": "markdown",
   "metadata": {},
   "source": [
    "## Question 2\n",
    "\n",
    "Describe the structure of select-instructions."
   ]
  },
  {
   "cell_type": "markdown",
   "metadata": {},
   "source": [
    "The pass should converteach statement from the program into one or more x86 instructions (with variables).\n",
    "\n",
    "Here's the Grammar:\n",
    "```\n",
    "op   ::= 'add'\n",
    "Atm  ::= Var(x) | Constant(n)\n",
    "Stmt ::= Assign(x, Prim(op, [Atm])) | Assign(x, Atm) | Print(Atm)\n",
    "LVar ::= Program([Stmt])\n",
    "```\n",
    "We will structure based on this grammar.\n",
    "\n",
    " - si_atm comnverts an lvar atomic into x86 atomic\n",
    "     - Var(x) becomes x86.Var(x)\n",
    "     - Constant(n) becomes x86.Immediate(n)\n",
    " - si_stmt converts a stmt into 1 or more stmts\n",
    "     - Assign(x, Prim(op, [Atm]))\n",
    "         - only op is \"add\" so this becomes:\n",
    "          - Assign(x, Prim('add', [atm1, atm2]))\n",
    "     - Assign(x, Atm)\n",
    "         - Assign(x, atm1)\n",
    "             - movq si_atm(atm1), #rdx   <---- Going to have to call this si_atm but not write this exactly\n",
    "     - Print(Atm)\n",
    "         - Print(atm1)\n",
    "             - movq si_atm(atm1) #rdx\n",
    "             - callq print_int\n",
    " - si_stmts compiles a list of statments\n",
    " \n",
    "BOOK: Section 2.5 for reference\n",
    " - Don't worry about making the code from book in the more \"effecient\" fashion"
   ]
  },
  {
   "cell_type": "markdown",
   "metadata": {},
   "source": [
    "----\n",
    "# Assign-homes pass"
   ]
  },
  {
   "cell_type": "markdown",
   "metadata": {},
   "source": [
    "The assign-homes pass places each program variable in a *stack location* in memory, eliminating variables from the program.\n",
    "\n",
    "See Section 2.2 for details; especially see Figure 2.8 for details on the memory layout of stack frames.\n",
    "\n"
   ]
  },
  {
   "cell_type": "markdown",
   "metadata": {},
   "source": [
    "registers %rdi ~15 of these and they are FAST\n",
    "memory  n(%rdb)   LOTS (maybe 16 gb of it)  SLOW\n",
    "        memory dereference: whatever memory address is stored in rdb go and use this\n",
    "        Also called indirect reference\n",
    "        \n",
    " - Use: Put some mem address in %rdp   <--- %rdp is conventionally used for this purpose\n",
    "        use it to read/write\n",
    "\n",
    "The Stack:\n",
    "                  16gb\n",
    "\n",
    "         |                     |\n",
    "\n",
    "         |   OLD STACK FRAME BUT NEW ONE STARTS HERE\n",
    "\n",
    "    ---->|%rdp  (base pointer) |\n",
    "\n",
    "         |                     |  Between we can store info: x=5, y=6, z=7\n",
    "\n",
    " -8(%rdp)| OLD RDP Stored      |  the negative is basically how far away from rdp pointer\n",
    "\n",
    "-16(%rdp)| 5                   |  x\n",
    "\n",
    "-24(%rdp)| 6                   |  y\n",
    "\n",
    "-32(%rdp)| 7                   |  z\n",
    "\n",
    "         | This might be empty |\n",
    "\n",
    "   ----->|%rsp  (stack pointer)|\n",
    "\n",
    "         |                     |\n",
    "\n",
    "         |                     |\n",
    "\n",
    "                  0"
   ]
  },
  {
   "cell_type": "markdown",
   "metadata": {},
   "source": [
    "Assign-Hommes deals with stack but only manually setup stack frame is done in prelude + conclusion pass\n",
    "Assignhomes deals with eliminating variables and turning them into stack memory locations\n",
    "\n",
    "(This example is storing 4 variables)\n",
    "\n",
    "pushq %rbp --saves old rbp and will push it to the stack\n",
    "movq %rsp, %rbp ---- takes moves old rdp and moves it to\n",
    "subq __$32___ %rsp --- making room for the new rsp, so we subtract a number of bytes\n",
    "        * The number of variables times 8\n",
    "\n",
    "next we need to make room for the rest of the variables"
   ]
  },
  {
   "cell_type": "markdown",
   "metadata": {},
   "source": [
    "## Question 3\n",
    "\n",
    "Write X86 assembly that prepares a stack frame for four variables and puts the values 1,2,3,4 in stack locations."
   ]
  },
  {
   "cell_type": "code",
   "execution_count": 6,
   "metadata": {},
   "outputs": [
    {
     "data": {
      "text/html": [
       "<div>\n",
       "<style scoped>\n",
       "    .dataframe tbody tr th:only-of-type {\n",
       "        vertical-align: middle;\n",
       "    }\n",
       "\n",
       "    .dataframe tbody tr th {\n",
       "        vertical-align: top;\n",
       "    }\n",
       "\n",
       "    .dataframe thead th {\n",
       "        text-align: right;\n",
       "    }\n",
       "</style>\n",
       "<table border=\"1\" class=\"dataframe\">\n",
       "  <thead>\n",
       "    <tr style=\"text-align: right;\">\n",
       "      <th></th>\n",
       "      <th>Location</th>\n",
       "      <th>Old</th>\n",
       "      <th>New</th>\n",
       "    </tr>\n",
       "  </thead>\n",
       "  <tbody>\n",
       "    <tr>\n",
       "      <th>0</th>\n",
       "      <td>mem 992</td>\n",
       "      <td>None</td>\n",
       "      <td>1000</td>\n",
       "    </tr>\n",
       "    <tr>\n",
       "      <th>1</th>\n",
       "      <td>mem 984</td>\n",
       "      <td>None</td>\n",
       "      <td>1</td>\n",
       "    </tr>\n",
       "    <tr>\n",
       "      <th>2</th>\n",
       "      <td>mem 976</td>\n",
       "      <td>None</td>\n",
       "      <td>2</td>\n",
       "    </tr>\n",
       "    <tr>\n",
       "      <th>3</th>\n",
       "      <td>mem 968</td>\n",
       "      <td>None</td>\n",
       "      <td>3</td>\n",
       "    </tr>\n",
       "    <tr>\n",
       "      <th>4</th>\n",
       "      <td>mem 960</td>\n",
       "      <td>None</td>\n",
       "      <td>4</td>\n",
       "    </tr>\n",
       "  </tbody>\n",
       "</table>\n",
       "</div>"
      ],
      "text/plain": [
       "  Location   Old   New\n",
       "0  mem 992  None  1000\n",
       "1  mem 984  None     1\n",
       "2  mem 976  None     2\n",
       "3  mem 968  None     3\n",
       "4  mem 960  None     4"
      ]
     },
     "execution_count": 6,
     "metadata": {},
     "output_type": "execute_result"
    }
   ],
   "source": [
    "from cs202_support.eval_x86 import X86Emulator\n",
    "\n",
    "# Try some of these one at a time to figure out what exactly is going on here\n",
    "\n",
    "asm = \"\"\"\n",
    "pushq %rbp\n",
    "movq %rsp, %rbp\n",
    "subq $32, %rsp\n",
    "movq $1, -8(%rbp)\n",
    "movq $2, -16(%rbp)\n",
    "movq $3, -24(%rbp)\n",
    "movq $4, -32(%rbp)\n",
    "\"\"\"\n",
    "\n",
    "X86Emulator(logging=False).eval_instructions(asm)"
   ]
  },
  {
   "cell_type": "markdown",
   "metadata": {},
   "source": [
    "Tearing down the stack frame will happen in reverse instrcutions\n",
    "\"addq $32, %rsp\n",
    "popq %rbp\"\n",
    "at the end of the above."
   ]
  },
  {
   "cell_type": "markdown",
   "metadata": {},
   "source": [
    "## Question 4\n",
    "\n",
    "Write X86 assembly that prepares a stack frame for three variables and puts the values 1,2,3 in stack locations. Why is this situation different than above?"
   ]
  },
  {
   "cell_type": "code",
   "execution_count": 10,
   "metadata": {},
   "outputs": [
    {
     "data": {
      "text/html": [
       "<div>\n",
       "<style scoped>\n",
       "    .dataframe tbody tr th:only-of-type {\n",
       "        vertical-align: middle;\n",
       "    }\n",
       "\n",
       "    .dataframe tbody tr th {\n",
       "        vertical-align: top;\n",
       "    }\n",
       "\n",
       "    .dataframe thead th {\n",
       "        text-align: right;\n",
       "    }\n",
       "</style>\n",
       "<table border=\"1\" class=\"dataframe\">\n",
       "  <thead>\n",
       "    <tr style=\"text-align: right;\">\n",
       "      <th></th>\n",
       "      <th>Location</th>\n",
       "      <th>Old</th>\n",
       "      <th>New</th>\n",
       "    </tr>\n",
       "  </thead>\n",
       "  <tbody>\n",
       "    <tr>\n",
       "      <th>0</th>\n",
       "      <td>mem 992</td>\n",
       "      <td>NaN</td>\n",
       "      <td>1000</td>\n",
       "    </tr>\n",
       "    <tr>\n",
       "      <th>1</th>\n",
       "      <td>mem 984</td>\n",
       "      <td>NaN</td>\n",
       "      <td>1</td>\n",
       "    </tr>\n",
       "    <tr>\n",
       "      <th>2</th>\n",
       "      <td>mem 976</td>\n",
       "      <td>NaN</td>\n",
       "      <td>2</td>\n",
       "    </tr>\n",
       "    <tr>\n",
       "      <th>3</th>\n",
       "      <td>mem 968</td>\n",
       "      <td>NaN</td>\n",
       "      <td>3</td>\n",
       "    </tr>\n",
       "    <tr>\n",
       "      <th>4</th>\n",
       "      <td>reg rbp</td>\n",
       "      <td>1000.0</td>\n",
       "      <td>992</td>\n",
       "    </tr>\n",
       "    <tr>\n",
       "      <th>5</th>\n",
       "      <td>reg rsp</td>\n",
       "      <td>1000.0</td>\n",
       "      <td>960</td>\n",
       "    </tr>\n",
       "  </tbody>\n",
       "</table>\n",
       "</div>"
      ],
      "text/plain": [
       "  Location     Old   New\n",
       "0  mem 992     NaN  1000\n",
       "1  mem 984     NaN     1\n",
       "2  mem 976     NaN     2\n",
       "3  mem 968     NaN     3\n",
       "4  reg rbp  1000.0   992\n",
       "5  reg rsp  1000.0   960"
      ]
     },
     "execution_count": 10,
     "metadata": {},
     "output_type": "execute_result"
    }
   ],
   "source": [
    "asm = \"\"\"\n",
    "pushq %rbp\n",
    "movq %rsp, %rbp\n",
    "subq $32, %rsp\n",
    "movq $1, -8(%rbp)\n",
    "movq $2, -16(%rbp)\n",
    "movq $3, -24(%rbp)\n",
    "\"\"\"\n",
    "\n",
    "X86Emulator(logging=False).eval_instructions(asm)"
   ]
  },
  {
   "cell_type": "markdown",
   "metadata": {},
   "source": [
    "- This situation is different from above because we leave one stack location unused. This is to make sure that the value of `rsp` is divisible by 16 (the *16-byte alignment*), as required by X86 assembly.\n",
    "- Your assign-homes pass should *ensure 16-byte alignment* of the stack frame."
   ]
  },
  {
   "cell_type": "markdown",
   "metadata": {},
   "source": [
    "rsp should always be divisible by 16."
   ]
  },
  {
   "cell_type": "markdown",
   "metadata": {},
   "source": [
    "## Question 5\n",
    "\n",
    "Implement a function `align` to ensure 16-byte alignment."
   ]
  },
  {
   "cell_type": "code",
   "execution_count": 12,
   "metadata": {},
   "outputs": [
    {
     "name": "stdout",
     "output_type": "stream",
     "text": [
      "32\n",
      "16\n",
      "32\n"
     ]
    }
   ],
   "source": [
    "def align(num_bytes: int) -> int:\n",
    "    if num_bytes % 16 == 0:\n",
    "        return num_bytes\n",
    "    else:\n",
    "        return num_bytes +8\n",
    "# This would need to be more complicated if we had variables that needed more thn 8 bytes\n",
    "    \n",
    "print(align(32))\n",
    "print(align(8))\n",
    "print(align(24))"
   ]
  },
  {
   "cell_type": "markdown",
   "metadata": {},
   "source": [
    "## Question 6\n",
    "\n",
    "Describe the assign-homes pass."
   ]
  },
  {
   "cell_type": "markdown",
   "metadata": {},
   "source": [
    "This pass looks for variables in program and replaces it with a stack location  (a Deref AST node).\n",
    "\n",
    "\n",
    "Keep a dictionary called 'homes': Dict[str, Deref]\n",
    "SO when find a variable:\n",
    " - If it already exists in 'homes', just use that home\n",
    " - If it doesn't exist in homes, create a home for it and add it to the dictionary\n",
    "     - New home using offset -8*(len(homes) +1)\n",
    "\n",
    "** homes = {} ** -- use this at front of all the the following local only to pass\n",
    "\n",
    "ah_arg(a: x86Arg)\n",
    "    uses homes dictionary and checks the two things above:\n",
    "        - Three cases we have: Registers, Variables, Immediates\n",
    "        - Variables are really the only ones that matter (reg and imm just return themselves)\n",
    "            - Var case: \n",
    "                - if exists in homes use that home\n",
    "                - else create home and use it\n",
    "        \n",
    "ah_instr(instr:x86Instr)\n",
    "    match w/ one case per instruction type --> NamedInstr is the only one that can have variables\n",
    "                                               NamedInstr(op, args)\n",
    "                                               call ah_arg on each arg -- ah_arg is already responsible for finding mem locs\n",
    "                                               (this will be a list comprehension or fpor loop)\n",
    "                                            \n",
    "ah_block(instrs: List[x86Instr]) - > List[x86Instr]\n",
    "    a program is like:\n",
    "        main: (these labels are held in a dictionary)\n",
    "            BLOCK\n",
    "            call ah_instr for each instr\n",
    "\n"
   ]
  },
  {
   "cell_type": "markdown",
   "metadata": {},
   "source": [
    "----\n",
    "# Patch-instructions pass"
   ]
  },
  {
   "cell_type": "markdown",
   "metadata": {},
   "source": [
    "The patch-instructions pass fixes instructions with two in-memory arguments, by using the `rax` register as a temporary location."
   ]
  },
  {
   "cell_type": "markdown",
   "metadata": {},
   "source": [
    "## Question 7\n",
    "\n",
    "What is wrong with the following instructions?\n",
    "\n",
    "```\n",
    "movq -8(%rbp), -16(%rbp)\n",
    "addq -24(%rbp), -16(%rbp)\n",
    "```"
   ]
  },
  {
   "cell_type": "markdown",
   "metadata": {},
   "source": [
    "YOUR SOLUTION HERE"
   ]
  },
  {
   "cell_type": "markdown",
   "metadata": {},
   "source": [
    "## Question 8\n",
    "\n",
    "Fix the instructions above."
   ]
  },
  {
   "cell_type": "markdown",
   "metadata": {},
   "source": [
    "YOUR SOLUTION HERE"
   ]
  },
  {
   "cell_type": "markdown",
   "metadata": {},
   "source": [
    "## Question 9\n",
    "\n",
    "Describe the patch-instructions pass."
   ]
  },
  {
   "cell_type": "markdown",
   "metadata": {},
   "source": [
    "YOUR SOLUTION HERE"
   ]
  },
  {
   "cell_type": "markdown",
   "metadata": {},
   "source": [
    "----\n",
    "# Prelude & conclusion pass"
   ]
  },
  {
   "cell_type": "markdown",
   "metadata": {},
   "source": [
    "The prelude & conclusion pass adds code to the beginning and end of the `main` block to prepare and tear down the program's stack frame."
   ]
  },
  {
   "cell_type": "markdown",
   "metadata": {},
   "source": [
    "## Question 10\n",
    "\n",
    "The program `print(5+6)` compiles to the following x86 program:\n",
    "\n",
    "```\n",
    "  .globl main\n",
    "main:\n",
    "  movq $5, %rax\n",
    "  addq $6, %rax\n",
    "  movq %rax, -8(%rbp)\n",
    "  movq -8(%rbp), %rdi\n",
    "  callq print_int\n",
    "```\n",
    "\n",
    "Add the *prelude* and *conclusion* to the `main` block of this program."
   ]
  },
  {
   "cell_type": "markdown",
   "metadata": {},
   "source": [
    "YOUR SOLUTION HERE"
   ]
  },
  {
   "cell_type": "markdown",
   "metadata": {},
   "source": [
    "## Question 11\n",
    "\n",
    "Describe the prelude & conclusion pass."
   ]
  },
  {
   "cell_type": "markdown",
   "metadata": {},
   "source": [
    "YOUR SOLUTION HERE"
   ]
  }
 ],
 "metadata": {
  "kernelspec": {
   "display_name": "Python 3 (ipykernel)",
   "language": "python",
   "name": "python3"
  },
  "language_info": {
   "codemirror_mode": {
    "name": "ipython",
    "version": 3
   },
   "file_extension": ".py",
   "mimetype": "text/x-python",
   "name": "python",
   "nbconvert_exporter": "python",
   "pygments_lexer": "ipython3",
   "version": "3.10.9"
  }
 },
 "nbformat": 4,
 "nbformat_minor": 2
}
