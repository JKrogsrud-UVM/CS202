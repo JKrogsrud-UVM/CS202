{
 "cells": [
  {
   "cell_type": "markdown",
   "metadata": {},
   "source": [
    "# CS202: Compiler Construction\n",
    "\n",
    "## In-class Exercises, Week of 02/27/2023\n",
    "\n",
    "----"
   ]
  },
  {
   "cell_type": "markdown",
   "metadata": {},
   "source": [
    "A4: Due in a week\n",
    "Midterm: Next Friday (before spring break) - low pressure\n",
    "\n",
    "2/27:\n",
    " - RCO\n",
    " - explicate control\n",
    " \n",
    "3/1:\n",
    " - select instructions\n",
    " - register allocation\n",
    " \n",
    "3/3:\n",
    " - everything else"
   ]
  },
  {
   "cell_type": "markdown",
   "metadata": {},
   "source": [
    "# RCO"
   ]
  },
  {
   "cell_type": "markdown",
   "metadata": {},
   "source": [
    "## Question 1\n",
    "\n",
    "How do we handle `if` statements in rco?"
   ]
  },
  {
   "cell_type": "markdown",
   "metadata": {},
   "source": [
    "We don't have to do much at all.\n",
    "\n",
    "if is noit an operator, it's args dont need to be atomic.\n",
    " - call rco_exp on the condition\n",
    " - call rco_stmts on the then and else statements"
   ]
  },
  {
   "cell_type": "markdown",
   "metadata": {},
   "source": [
    "----"
   ]
  },
  {
   "cell_type": "markdown",
   "metadata": {},
   "source": [
    "# Explicate-Control"
   ]
  },
  {
   "cell_type": "markdown",
   "metadata": {},
   "source": [
    "## Question 2\n",
    "\n",
    "Describe the idea behind the explicate-control pass."
   ]
  },
  {
   "cell_type": "markdown",
   "metadata": {},
   "source": [
    "This should turn if stmts into control flow graphs (gotos/jumps). This doesn't produce x86 (that's select instructions)\n",
    "The intermediate language this pass will produce is Cif.\n",
    " - Similar to poython (expr / stmts)\n",
    " - Different:\n",
    "     - If statements must have gotos in then and else\n",
    "     - Program is represented by a dict mapping labels to lists of stataments (a control flow graph)\"\n",
    "     \n",
    "There are four pieces to consider when compiling an if statement:\n",
    " - the condition\n",
    " - the then branch (stmts)\n",
    " - the else branch (stmts)\n",
    " - the \"rest of the stuff to do\" after the if statement is done\n",
    "     - this is called the \"continuation\"\n",
    "\n",
    "We will always process statements backwards, so we always have a compiled version of the continuation."
   ]
  },
  {
   "cell_type": "markdown",
   "metadata": {},
   "source": [
    "## Question 3\n",
    "\n",
    "Compile this program into a $C_{if}$ program, describing the input and output of explicate-control.\n",
    "\n",
    "```\n",
    "if 5 == 6:\n",
    "    print(1)\n",
    "else:\n",
    "    print(0)\n",
    "```"
   ]
  },
  {
   "cell_type": "markdown",
   "metadata": {},
   "source": [
    "Control Flow Graph:\n",
    "      l1: if 5 == 6\n",
    "       /       \\\n",
    "      /         \\\n",
    "     /           \\\n",
    " l2: Print(1)   l3: Print(0)\n",
    "      \\         /\n",
    "       \\       /\n",
    "      l4: Return 0\n",
    "      \n",
    "                   cont = [Goto(l1)]\n",
    "l1: if 5 == 6 cont cont = [If(cond, l2, l3)]\n",
    "l2: Print(1) cont = [Goto(l4)]\n",
    "l3: Print(0) cont = [Goto(l4)]\n",
    "l4 becomes cont = [Return 0]"
   ]
  },
  {
   "cell_type": "markdown",
   "metadata": {},
   "source": [
    "x = 5 [Assign(x,5), Assign(y,6), Assign(z,7), Return(0)]\n",
    "\n",
    "y = 6 [Assign(y,6), Assign(z,7), Return(0)]\n",
    "\n",
    "z = 7 [Assign(z,7), Return(0)]\n",
    "\n",
    "(This started from bottom and went up)"
   ]
  },
  {
   "cell_type": "markdown",
   "metadata": {},
   "source": [
    "label_2:\n",
    "\n",
    "   - return 0\n",
    "  \n",
    "label_3:\n",
    "\n",
    "   - print(1)\n",
    "  \n",
    "   - goto label_2\n",
    "  \n",
    "label_4:\n",
    "\n",
    "   - print(0)\n",
    "  \n",
    "   - goto label_2\n",
    "  \n",
    "start:\n",
    "\n",
    "   - tmp_1 = eq(5, 6)\n",
    "  \n",
    "   - if tmp_1: goto label_3 else: goto label_4"
   ]
  },
  {
   "cell_type": "markdown",
   "metadata": {},
   "source": [
    "## Question 4\n",
    "\n",
    "Describe the structure of `explicate_control`."
   ]
  },
  {
   "cell_type": "markdown",
   "metadata": {},
   "source": [
    "Start by following the grammar:\n",
    "\n",
    " - `ec_atm`\n",
    "     - Constants => cif.Constants\n",
    "     - Var => cif.Var\n",
    " - `ec_expr` compiles an expression into a Cin expression\n",
    "     - Prim(op, args) => cif.Prim(op, new_args)\n",
    "     - else call ec_atm\n",
    " - `ec_stmt` takes a statement and a continuation and returns a list of Cif statements\n",
    "     - Assign(x,e) => [cif.Assign(x, ec_expr(e))] + cont\n",
    "     - Print(e) => [cif.Print(ec_expr(e))] + cont\n",
    "     - If (condition, then_stmts, else_stmts) => \n",
    "         - cond_label = create block for cont\n",
    "         - then_label = create block for ec_stmts(then_stmts, [cif.Goto(cond_label)])\n",
    "         - else_label = create block for ec_stmts(else_stmts, [cif.Goto(cond_label)])\n",
    "         - return[cif(ec_expr(condition), cif.Goto(then_label), cif.Goto(else_label)]\n",
    "         \n",
    " - `ec_stmts` takes a list of statements and a continuation, returns a list Cif statements\n",
    "     - process list of statments in reverse\n",
    "     - update current continuation by calling ec_stmt on each stmt and setting the continuation to whatever comes back\n",
    " - main body of the pass\n",
    "     - start with continuation [cif.Return(0)]\n",
    "     - call ec_stmts on statements of the program\n",
    "     - set basic_blocks['start'] to the result\n",
    " - pass should have a global basic_blocks: Dict[str, List[cif.Stmt]]\n",
    " - pass should have a create_block gunction that adds a new block to basic_blocks with a unique name (using gensym)"
   ]
  },
  {
   "cell_type": "markdown",
   "metadata": {},
   "source": [
    "----"
   ]
  },
  {
   "cell_type": "markdown",
   "metadata": {},
   "source": [
    "# Select Instructions"
   ]
  },
  {
   "cell_type": "markdown",
   "metadata": {},
   "source": [
    "## Question 5\n",
    "\n",
    "Describe the new cases in `select_instructions`."
   ]
  },
  {
   "cell_type": "markdown",
   "metadata": {},
   "source": [
    " - Mostly copy and paste.\n",
    "\n",
    " - Comparison case is really interesting\n",
    "\n",
    "New cases:\n",
    " - `Assign(x, Prim(op, [a1, a2])` and `op` is a comparison primitive:\n",
    "     - compile to 3 instructions:\n",
    "         - cmpq a2, a1\n",
    "         - set[cc] %al\n",
    "             - cc is condition code for desired comparison op\n",
    "             - eq(==): e, gt(>): g, gte(>=): ge, lt(<): l, lte(<=): le\n",
    "         - movzbq %al, #x (moves byte reg into a 64-bit location)\n",
    " - If(condition, Goto(l1), Goto(l2))\n",
    "    - cmpq condition, `$1`\n",
    "    - je l1\n",
    "    - jmp l2\n",
    " - Assign(x, Prim( 'not', [a1]))\n",
    "    - movq al, #x\n",
    "    - xorq $1, #x\n",
    " - Return(a1)\n",
    "    - movq al, %rax\n",
    "    - jmp conclusion\n",
    " - Goto(label)\n",
    "    - jmp label"
   ]
  },
  {
   "cell_type": "markdown",
   "metadata": {},
   "source": [
    "**NOTES NOT ANSWERS BELOW**\n",
    "\n",
    "cmpq a2, a1 --compares, sets EFLAGS register\n",
    "\n",
    "je label1 -- looking for equal\n",
    "jge label -- looking for greater equal\n",
    "\n",
    "what if we x = 5 == 6 though? how to get the result of comparison?\n",
    "\n",
    "cmpq a2, a1\n",
    "set e %al -- read write result of cmpq as boolean to al\n",
    "movzbq %al, %r8  -- moves from byte register to regular register"
   ]
  },
  {
   "cell_type": "markdown",
   "metadata": {},
   "source": [
    "----"
   ]
  },
  {
   "cell_type": "markdown",
   "metadata": {},
   "source": [
    "# Register Allocation"
   ]
  },
  {
   "cell_type": "markdown",
   "metadata": {},
   "source": [
    "## Question 6\n",
    "\n",
    "Describe the liveness analysis for a control-flow graph."
   ]
  },
  {
   "cell_type": "markdown",
   "metadata": {},
   "source": [
    " - Challenge is now that i have many blocks, and jumps between them; a varaiable might be read in a block I'm jumping to, and so it better remain live \"across\" jumps\n",
    " - Means I can't consider each block in isolation, i need to look at all bnlocks at once\n",
    " - treat things that might get read by the block I'm jumping to as things that are read by the jump instruction itself"
   ]
  },
  {
   "cell_type": "markdown",
   "metadata": {},
   "source": [
    "## Question 7\n",
    "\n",
    "Here is an x86 assembly program. Compute its live-after sets.\n",
    "\n",
    "```\n",
    "start:\n",
    "  movq $42, #x\n",
    "  cmpq $6, $5\n",
    "  je label_2\n",
    "  jmp label_3\n",
    "label_2:\n",
    "  addq $3, #x\n",
    "  jmp conclusion\n",
    "label_3:\n",
    "  addq $4, #x\n",
    "  jmp conclusion\n",
    "```"
   ]
  },
  {
   "cell_type": "markdown",
   "metadata": {},
   "source": [
    "When I find a jump instruction, I will compute the live-after sets for the target, and the live-before set for the target, and treat the live-before set as the variables read by the jump.\n",
    "\n",
    "The `conclusion` block always has the empty live-before set.\n",
    "\n",
    "```\n",
    "start:                           {}\n",
    "  movq $42, #x                   {x}\n",
    "  cmpq $6, $5                       --> need to jump to label_2 --> {x}\n",
    "  je label_2                     {} --> need to jump to label_3 --> {x}\n",
    "  jmp label_3     <- start here: {}\n",
    "label_2:                                    {x}\n",
    "  addq $3, #x                               {}\n",
    "  jmp conclusion                            {}\n",
    "label_3:                              {x}\n",
    "  addq $4, #x                         {}\n",
    "  jmp conclusion                      {} <- empty live-before set\n",
    "```\n",
    "\n",
    " - Global dict that remembers live-before sets for each block\n",
    " - Global dict that remembers list of live-after sets for each block"
   ]
  },
  {
   "cell_type": "markdown",
   "metadata": {},
   "source": [
    "## Question 8\n",
    "\n",
    "Describe the change to building the interference graph."
   ]
  },
  {
   "cell_type": "markdown",
   "metadata": {},
   "source": [
    "no change"
   ]
  },
  {
   "cell_type": "markdown",
   "metadata": {},
   "source": [
    "## Question 9\n",
    "\n",
    "Describe the change to graph coloring and assigning homes."
   ]
  },
  {
   "cell_type": "markdown",
   "metadata": {},
   "source": [
    "no change"
   ]
  },
  {
   "cell_type": "markdown",
   "metadata": {},
   "source": [
    "----"
   ]
  },
  {
   "cell_type": "markdown",
   "metadata": {},
   "source": [
    "# Patch Instructions"
   ]
  },
  {
   "cell_type": "markdown",
   "metadata": {},
   "source": [
    "## Question 10\n",
    "\n",
    "Describe the changes to patch_instructions."
   ]
  },
  {
   "cell_type": "markdown",
   "metadata": {},
   "source": [
    "the only change is to add a case for the `cmpq` instruction; it must not have an immediate as its second argument. If it does, you can use %rax as a temporary location to hold the immediate instead: `cmpq a1, a2` => `movq a2, %rax` then `cmpq a1, %rax`\n",
    "\n",
    "cmpq instruction can't have immediate value as second argyument"
   ]
  },
  {
   "cell_type": "markdown",
   "metadata": {},
   "source": [
    "----"
   ]
  },
  {
   "cell_type": "markdown",
   "metadata": {},
   "source": [
    "# Prelude & Conclusion\n"
   ]
  },
  {
   "cell_type": "markdown",
   "metadata": {},
   "source": [
    "## Question 11\n",
    "\n",
    "Describe the changes to prelude_and_conclusion."
   ]
  },
  {
   "cell_type": "markdown",
   "metadata": {},
   "source": [
    "the \"prelude\" code now goes in the `main` block, with a jmp to the start block. The \"conclusion\" code now goes in the `conclusion` block.\n",
    " - Almost the same as assingment 3 except\n",
    "   - Prelude goes in main\n",
    "   - conclusion goes into conclusion block"
   ]
  }
 ],
 "metadata": {
  "kernelspec": {
   "display_name": "Python 3 (ipykernel)",
   "language": "python",
   "name": "python3"
  },
  "language_info": {
   "codemirror_mode": {
    "name": "ipython",
    "version": 3
   },
   "file_extension": ".py",
   "mimetype": "text/x-python",
   "name": "python",
   "nbconvert_exporter": "python",
   "pygments_lexer": "ipython3",
   "version": "3.10.9"
  }
 },
 "nbformat": 4,
 "nbformat_minor": 4
}
