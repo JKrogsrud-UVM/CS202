{
 "cells": [
  {
   "cell_type": "markdown",
   "metadata": {},
   "source": [
    "# CS202: Compiler Construction\n",
    "\n",
    "## In-class Exercises, Week of 04/17/2023\n",
    "\n",
    "----"
   ]
  },
  {
   "cell_type": "markdown",
   "metadata": {},
   "source": [
    "# Select-Instructions"
   ]
  },
  {
   "cell_type": "markdown",
   "metadata": {},
   "source": [
    "## Question 1\n",
    "\n",
    "Write an `X86fun` program that's equivalent to the following `Cfun` program:\n",
    "\n",
    "```\n",
    "def add1(n):\n",
    "  add1start:\n",
    "    tmp_1 = add(n, 1)\n",
    "    return tmp_1\n",
    "\n",
    "def main():\n",
    "  mainstart:\n",
    "    tmp_2 = add1\n",
    "    tmp_3 = tmp_2(5)\n",
    "    print(tmp_3)\n",
    "    return 0\n",
    "```"
   ]
  },
  {
   "cell_type": "markdown",
   "metadata": {},
   "source": [
    "We will do si for each function def seperately, and keep them separate:\n",
    "\n",
    "```\n",
    "def add1:\n",
    "  add1start:\n",
    "    movq %rdi, #n\n",
    "    movq %n, #tmp_1\n",
    "    addq $1, #tmp_1\n",
    "    movq #tmp_1, %rax\n",
    "    jmp add1conclusion\n",
    "\n",
    "def main():\n",
    "  mainstart:\n",
    "    --tmp_2 = add1\n",
    "    leaq add1(%rip), #tmp_2\n",
    "    --tmp_3 = tmp_2(5)\n",
    "    movq $5, %rdi\n",
    "    callq *#tmp_2\n",
    "    \n",
    "    movq %rax, #tmp_3\n",
    "    movq #tmp_3, %rdi\n",
    "    callq print_int\n",
    "    \n",
    "    movq $0, %rax\n",
    "    call mainconclusion\n",
    "```\n",
    "\n",
    "leaq: load effective address\n",
    "* in callq is an indirect addq"
   ]
  },
  {
   "cell_type": "markdown",
   "metadata": {},
   "source": [
    "## Question 2\n",
    "\n",
    "Describe the changes to `select-instructions`."
   ]
  },
  {
   "cell_type": "markdown",
   "metadata": {},
   "source": [
    "1. Define a new function `si_def` to compile a function definition\n",
    "2. New/changed cases: Call, Return, Function assignment (in `si_stmt`)\n",
    "3. Add a pass-global var called `current_function` to track what function is being compiled (just like explicate-control)\n",
    "\n",
    "New function `si_def`:\n",
    "1. Set `current_function` to the name of the function being compiled\n",
    "2. Call `si_stmts` on the statements of each CFG block\n",
    "3. For the name + start bock, add statements to set up the arguments: one movq for each parameter, from the paramter passing register to the variables with paramter's name\n",
    "4. Return a new x86fun function definition\n",
    "\n",
    "New cases in `si_stmt`:\n",
    "1. Return should now jump to current_function + conclusion\n",
    "2. cfun.Assign(x, cfun.Var(f)) if f in function_names use `x86.NamedInstr(`leaq`, [x86.GlobalVal(f), x86.Var(x)])`\n",
    "3. `cfun.Assign(x, cfun(fun,args))`:\n",
    "        1. Move arguments into the parameter registers (reverse of the definition case)\n",
    "        2. Perform an indirect callq: `x86.IndirectCallq(si_atm(fun), 0)`\n",
    "        3. Move the return value into the destination variable:\n",
    "            `x86.NamedInstr('movq', [x86.Reg(`rax`), x86.Var(x)])`"
   ]
  },
  {
   "cell_type": "markdown",
   "metadata": {},
   "source": [
    "----\n",
    "# Register allocation"
   ]
  },
  {
   "cell_type": "markdown",
   "metadata": {},
   "source": [
    "## Question 3\n",
    "\n",
    "Describe the changes to the register allocator."
   ]
  },
  {
   "cell_type": "markdown",
   "metadata": {},
   "source": [
    "Copy pass from A6, name it `_allocate_registers`, and call it for each of the functions in the program\n",
    "\n",
    "This means we perform register allocation for each function seperately.\n",
    "\n",
    "In addition, change the register allocator to ensure that we follow the calling convention\n",
    "\n",
    "(Last week Q16: callee-saved vrs caller-saved)\n",
    "\n",
    "In particular we want to ensure that no value in the caller-saved register will be live across a call to any function.\n",
    "The Alternative would be to save the caller-saved registers before doing the call (but this requires lots of memory accesses)\n",
    "\n",
    "Change to `bi_instr` in allocator:\n",
    " - for callq and indirectcallq: add an edge in interference graph between each live variable and each caller-saved register (done for us just add indirectcall)\n",
    "\n",
    "in the To ensure we don't overwrite parameter passing registers before we read in their values:\n",
    " - change vars_arg to return registers\n",
    " - This ensures that we don't overwrite a paramter-passing register until after we've used trhe value that was in it\n",
    " - Effect: put registers we still need in live-after sets of instructions where they might get overwritten\n",
    "\n",
    "Change initialization of live_before sets:\n",
    "\n",
    "live_before_sets = {name + `conclusion`: set()}"
   ]
  },
  {
   "cell_type": "markdown",
   "metadata": {},
   "source": [
    "----\n",
    "# Patch Instructions"
   ]
  },
  {
   "cell_type": "markdown",
   "metadata": {},
   "source": [
    "## Question 4\n",
    "\n",
    "Describe the changes to patch-instructions."
   ]
  },
  {
   "cell_type": "markdown",
   "metadata": {},
   "source": [
    "Copy pass from A6, name it `_patch_instructions`, and call it for each of the functions in the program\n",
    "\n",
    "That's it."
   ]
  },
  {
   "cell_type": "markdown",
   "metadata": {},
   "source": [
    "----\n",
    "# Prelude & Conclusion"
   ]
  },
  {
   "cell_type": "markdown",
   "metadata": {},
   "source": [
    "## Question 5\n",
    "\n",
    "Describe the changes to prelude & conclusion."
   ]
  },
  {
   "cell_type": "markdown",
   "metadata": {},
   "source": [
    "Copy pass from A6, name it `_prelude_and_conclusion`, and call it for each of the functions in the program\n",
    "\n",
    "Also need to flatten out function defs into a single x86 program.\n",
    "\n",
    "Also need to make several other changes:\n",
    "1. save and restore callee-saved registers:\n",
    "    - add pushq instructions to prelude to save registers, popq instructions to conclusion to restore them (Hard codable)\n",
    "2. Initialize the heap only in main function: call the initialize function only if the name is main\n",
    "3. Add an instruction to tear down root-stack frame\n",
    "    - x86.NamedInst(subq, [x86.Immediate(8*root_stack_loations), x86.Reg(r15)])\n",
    "4. Use the function's name as the prelude label\n",
    "5. Use name + `conclusion` as the conclusion label"
   ]
  },
  {
   "cell_type": "markdown",
   "metadata": {},
   "source": [
    "----\n",
    "# Dataclasses and Objects"
   ]
  },
  {
   "cell_type": "markdown",
   "metadata": {},
   "source": [
    "## Question 6\n",
    "\n",
    "Transform the following program into an `Ltup` program using tuples.\n",
    "\n",
    "```\n",
    "class Point:\n",
    "    x: int\n",
    "    y: int\n",
    "\n",
    "p = Point(1, 2)\n",
    "v = p.x + p.y\n",
    "print(v)\n",
    "```"
   ]
  },
  {
   "cell_type": "code",
   "execution_count": 1,
   "metadata": {
    "scrolled": true
   },
   "outputs": [
    {
     "name": "stdout",
     "output_type": "stream",
     "text": [
      "3\n"
     ]
    }
   ],
   "source": [
    "YOUR ANSWER HERE"
   ]
  },
  {
   "cell_type": "markdown",
   "metadata": {},
   "source": [
    "## Question 7\n",
    "\n",
    "Describe the changes to the compiler to support dataclasses."
   ]
  },
  {
   "cell_type": "markdown",
   "metadata": {},
   "source": [
    "YOUR ANSWER HERE"
   ]
  },
  {
   "cell_type": "markdown",
   "metadata": {},
   "source": [
    "## Question 8\n",
    "\n",
    "Transform the following program into an `Lfun` program using tuples.\n",
    "\n",
    "```\n",
    "class Point:\n",
    "    x: int\n",
    "    y: int\n",
    "    \n",
    "    def add(self: Point, other: Point) -> Point:\n",
    "        return Point(self.x + other.x, self.y + other.y)\n",
    "\n",
    "p1 = Point(1, 2)\n",
    "p2 = Point(3, 4)\n",
    "p3 = p1.add(p2)\n",
    "v = p3.x + p3.y\n",
    "print(v)\n",
    "```"
   ]
  },
  {
   "cell_type": "code",
   "execution_count": 3,
   "metadata": {},
   "outputs": [
    {
     "name": "stdout",
     "output_type": "stream",
     "text": [
      "10\n"
     ]
    }
   ],
   "source": [
    "YOUR ANSWER HERE"
   ]
  }
 ],
 "metadata": {
  "kernelspec": {
   "display_name": "Python 3 (ipykernel)",
   "language": "python",
   "name": "python3"
  },
  "language_info": {
   "codemirror_mode": {
    "name": "ipython",
    "version": 3
   },
   "file_extension": ".py",
   "mimetype": "text/x-python",
   "name": "python",
   "nbconvert_exporter": "python",
   "pygments_lexer": "ipython3",
   "version": "3.10.9"
  }
 },
 "nbformat": 4,
 "nbformat_minor": 4
}
