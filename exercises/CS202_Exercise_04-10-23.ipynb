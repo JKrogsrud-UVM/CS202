{
 "cells": [
  {
   "cell_type": "markdown",
   "metadata": {},
   "source": [
    "# CS202: Compiler Construction\n",
    "\n",
    "## In-class Exercises, Week of 04/10/2023\n",
    "\n",
    "----"
   ]
  },
  {
   "cell_type": "markdown",
   "metadata": {},
   "source": [
    "TODO:\n",
    "1) Do a git pull (some errors occur)\n",
    "    - Added a field to store stack space in AST node for X86FunctionDef\n",
    "2) Re-Install cs202-support (instructions in readme)"
   ]
  },
  {
   "cell_type": "markdown",
   "metadata": {},
   "source": [
    "# Part 1: Functions and Lfun"
   ]
  },
  {
   "cell_type": "markdown",
   "metadata": {},
   "source": [
    "Functions: \n",
    " - We will treat them like mini-programs\n",
    "     - Basically we can do everything to our functions that we did to our programs and in the end smash them all together"
   ]
  },
  {
   "cell_type": "markdown",
   "metadata": {},
   "source": [
    "## Question 1\n",
    "\n",
    "Write an `Lfun` program with a function called `add1` that adds 1 to its argument, and a call to the function."
   ]
  },
  {
   "cell_type": "code",
   "execution_count": 3,
   "metadata": {},
   "outputs": [
    {
     "data": {
      "text/plain": [
       "6"
      ]
     },
     "execution_count": 3,
     "metadata": {},
     "output_type": "execute_result"
    }
   ],
   "source": [
    "def add1(n: int) -> int:\n",
    "    return n+1\n",
    "\n",
    "add1(5)"
   ]
  },
  {
   "cell_type": "markdown",
   "metadata": {},
   "source": [
    "## Question 2\n",
    "\n",
    "Write a recursive program to calculate the factorial of 5."
   ]
  },
  {
   "cell_type": "code",
   "execution_count": 4,
   "metadata": {},
   "outputs": [
    {
     "data": {
      "text/plain": [
       "120"
      ]
     },
     "execution_count": 4,
     "metadata": {},
     "output_type": "execute_result"
    }
   ],
   "source": [
    "def fact(n: int) -> int:\n",
    "    if n == 0:\n",
    "        return 1\n",
    "    else:\n",
    "        return n * fact(n-1)\n",
    "\n",
    "fact(5)"
   ]
  },
  {
   "cell_type": "markdown",
   "metadata": {},
   "source": [
    "## Question 3\n",
    "\n",
    "Summarize the changes to the compiler to support functions."
   ]
  },
  {
   "cell_type": "markdown",
   "metadata": {},
   "source": [
    "Theme: treat each function as its own mini-program\n",
    "\n",
    "1. before explicate control: add cases for function definitions, treating function definitions as statments\n",
    "2. explicate-control: contruct CFG for each function definition, output program is a list of function definitions (each is a mini-program)\n",
    "3. after explicate-control: call passes we wrote for A6 on each mini-program separately"
   ]
  },
  {
   "cell_type": "markdown",
   "metadata": {},
   "source": [
    "----"
   ]
  },
  {
   "cell_type": "markdown",
   "metadata": {},
   "source": [
    "# Part 2: Typechecking for Functions"
   ]
  },
  {
   "cell_type": "markdown",
   "metadata": {},
   "source": [
    "## Question 4\n",
    "\n",
    "What are the types of the functions `add1` and `*`?"
   ]
  },
  {
   "cell_type": "markdown",
   "metadata": {},
   "source": [
    "```\n",
    "add1: \n",
    "in Python: Callable[[int], int]] or int -> int\n",
    "\n",
    "*:\n",
    "Callable[[int, int], int] or int * int -> int\n",
    "```"
   ]
  },
  {
   "cell_type": "markdown",
   "metadata": {},
   "source": [
    "## Question 5\n",
    "\n",
    "Why do we need to specify the types of a function's arguments?"
   ]
  },
  {
   "cell_type": "code",
   "execution_count": null,
   "metadata": {},
   "outputs": [],
   "source": [
    "# We can't deduce type signature of this\n",
    "def identity(x)\n",
    "    return x"
   ]
  },
  {
   "cell_type": "markdown",
   "metadata": {},
   "source": [
    " - So we can typecheck function calls?\n",
    " - Overloading?\n",
    " - Modularity: need to know the types of inputs in ordern to typecheck fucntion definitions in isolation\n",
    " - Recursive Functions:\n",
    "     - need functions output type in order to typecheck it's body (or else you get an infinite loop)"
   ]
  },
  {
   "cell_type": "markdown",
   "metadata": {},
   "source": [
    "## Question 6\n",
    "\n",
    "Write a function `length` such that the following expression returns 3:\n",
    "\n",
    "```\n",
    "v = (1, (2, (3, 0)))\n",
    "print(length(v))\n",
    "```"
   ]
  },
  {
   "cell_type": "markdown",
   "metadata": {},
   "source": [
    "def length(v: List[int]) -> int: # We won't have this kind of type, we can't write the type down\n",
    "    if v == 0:\n",
    "        return 1\n",
    "    else return 1 + length(v[1])\n",
    "\n",
    "We can't write this function in our language, because of the type\n",
    "    "
   ]
  },
  {
   "cell_type": "markdown",
   "metadata": {},
   "source": [
    "## Question 7\n",
    "\n",
    "How do we typecheck a function call of the form `f(a1, ..., ak)`?"
   ]
  },
  {
   "cell_type": "markdown",
   "metadata": {},
   "source": [
    "New case in tc_exp:\n",
    "    case Call(f, args)\n",
    "\n",
    "1. Assume we havce already type-checked the definition of f\n",
    "2. typecheck f; it should have the type Callable([t1, ... , tk], t) --- (assertion)\n",
    "3. Typecheck a1, ... , ak and ensure they have the same types as the arguments in the function def (t1, .. tk) --- (lots of assertions)\n",
    "4. Return the type t"
   ]
  },
  {
   "cell_type": "markdown",
   "metadata": {},
   "source": [
    "## Question 8\n",
    "\n",
    "How do we typecheck a function definition?"
   ]
  },
  {
   "cell_type": "markdown",
   "metadata": {},
   "source": [
    "```\n",
    "def fact(n: int) -> int:\n",
    "    if n == 0:\n",
    "        return 1\n",
    "    else:\n",
    "        return n * fact(n-1)\n",
    "```\n",
    "\n",
    "New case in tc_stmt:\n",
    "    case FunctionDef(name, args_and_types, body_stmts, return_type)\n",
    "   \n",
    "Update the type environment (somehow)\n",
    "1. Update type env to have types for the function arguments\n",
    "2. Typecheck body_stmts (tc_stmts(body_stmts, env))\n",
    "3. env[name] = Callable([arg_types, return_type])"
   ]
  },
  {
   "cell_type": "markdown",
   "metadata": {},
   "source": [
    "## Question 9\n",
    "\n",
    "How do we typecheck a `Lfun` program?"
   ]
  },
  {
   "cell_type": "markdown",
   "metadata": {},
   "source": [
    "Two new cases:\n",
    "\n",
    "1. FunctionDef(name, params, body_stmts, return_type)\n",
    "2. Return(e)\n",
    "3. Call(func, args)\n",
    "\n",
    "    \n",
    " - For FunctionDef(name, params, body_stmts, return_type)\n",
    " 1. env[name] = Callable(param_types, return_types)\n",
    " 2. Copy env into new_env\n",
    " 3. Add bindings to new_env for each var in params\n",
    " 4. Handle return type: new_env['ret_val'] = return_type\n",
    " 5. Call tc_stmts(body_stmts, new_env)\n",
    " 6. Add name to function_names\n",
    " \n",
    " - For Return(e)\n",
    " 1. assert that tc_exp(e, env) == env['retval']\n",
    "\n",
    " - For Call(func, args):\n",
    "     - Treat it like Prim\n",
    "     - Except you need to call tc_exp(func, env)\n",
    "     - Except that the resulting type is a Callable\n",
    "     - Check that each arg has the expected type by the Callable\n",
    "     - Return type is Callable's return type"
   ]
  },
  {
   "cell_type": "markdown",
   "metadata": {},
   "source": [
    "----\n",
    "# Part 3: Changes to RCO and Expose-Alloc"
   ]
  },
  {
   "cell_type": "markdown",
   "metadata": {},
   "source": [
    "## Question 10\n",
    "\n",
    "Describe the changes to RCO."
   ]
  },
  {
   "cell_type": "markdown",
   "metadata": {},
   "source": [
    "def f():\n",
    "    pass\n",
    "\n",
    "f(3)\n",
    "\n",
    "tmp_ = f\n",
    "tmp_(3)"
   ]
  },
  {
   "cell_type": "markdown",
   "metadata": {},
   "source": [
    "New Cases:\n",
    "\n",
    "1. FunctionDef in rco_stmt\n",
    "    - just call rco_stmts on the body\n",
    "2. Return in rco_stmt\n",
    "    - call rco_exp on the returned expression\n",
    "    - should make returned expression atomic\n",
    "3. Call in rco_exp\n",
    "    - like Prim\n",
    "    - also call rco_exp on the func\n",
    "4. Var in rco_exp, when the variable is a function reference\n",
    "    - if the var is a function name, generate a tmp for it and return that\n",
    "        - check by asking if Var in function names\n",
    "    \n",
    "How do we know whats a function name?\n",
    "    - we add them to a set function_names\n",
    "    - add adding these into the typechecker"
   ]
  },
  {
   "cell_type": "markdown",
   "metadata": {},
   "source": [
    "## Question 11\n",
    "\n",
    "Describe the changes to expose-alloc."
   ]
  },
  {
   "cell_type": "markdown",
   "metadata": {},
   "source": [
    "1. add a case to ea_stmt for FnctionDef that calls ea_stmts on the body"
   ]
  },
  {
   "cell_type": "markdown",
   "metadata": {},
   "source": [
    "----"
   ]
  },
  {
   "cell_type": "markdown",
   "metadata": {},
   "source": [
    "# Part 4: Functions in x86 Assembly"
   ]
  },
  {
   "cell_type": "markdown",
   "metadata": {},
   "source": [
    "## Question 12\n",
    "\n",
    "Write an x86 assembly program corresponding to the `add1` program."
   ]
  },
  {
   "cell_type": "markdown",
   "metadata": {},
   "source": [
    "1. Functions in x86\n",
    "    callq, retq + calling convention\n",
    "    \n",
    "    callq(l) is a fancy jump except it remembers where it came from\n",
    "        under the hood:\n",
    "            pushq %rip\n",
    "            jmp l\n",
    "    \n",
    "    retq - goes back to where the function was called\n",
    "        under the hood:\n",
    "            popq %rip\n",
    "            jmp *%rip <- jumping to spot in the code"
   ]
  },
  {
   "cell_type": "markdown",
   "metadata": {},
   "source": [
    "JMP:\n",
    "    - can go to memory addresses, but that's not really a modern way to do it\n",
    "    - RIP - Process remembers where it is in program here"
   ]
  },
  {
   "cell_type": "code",
   "execution_count": 3,
   "metadata": {},
   "outputs": [
    {
     "name": "stdout",
     "output_type": "stream",
     "text": [
      "============================== STARTING EXECUTION ==============================\n",
      "CALL TO print_int: 6\n",
      "  Location                        Value\n",
      "0  reg rbp                         1000\n",
      "1  reg rsp                         1000\n",
      "2  reg rdi                            6\n",
      "3   reg r8                            6\n",
      "4  reg rax                            6\n",
      "5     add1  FunPointer(fun_name='add1')\n",
      "6     main  FunPointer(fun_name='main')\n",
      "FINAL STATE:\n",
      "  Location                        Value\n",
      "0  reg rbp                         1000\n",
      "1  reg rsp                         1000\n",
      "2  reg rdi                            6\n",
      "3   reg r8                            6\n",
      "4  reg rax                            6\n",
      "5     add1  FunPointer(fun_name='add1')\n",
      "6     main  FunPointer(fun_name='main')\n",
      "OUTPUT: [6]\n",
      "============================== FINISHED EXECUTION ==============================\n"
     ]
    },
    {
     "data": {
      "text/html": [
       "<div>\n",
       "<style scoped>\n",
       "    .dataframe tbody tr th:only-of-type {\n",
       "        vertical-align: middle;\n",
       "    }\n",
       "\n",
       "    .dataframe tbody tr th {\n",
       "        vertical-align: top;\n",
       "    }\n",
       "\n",
       "    .dataframe thead th {\n",
       "        text-align: right;\n",
       "    }\n",
       "</style>\n",
       "<table border=\"1\" class=\"dataframe\">\n",
       "  <thead>\n",
       "    <tr style=\"text-align: right;\">\n",
       "      <th></th>\n",
       "      <th>Location</th>\n",
       "      <th>Value</th>\n",
       "    </tr>\n",
       "  </thead>\n",
       "  <tbody>\n",
       "    <tr>\n",
       "      <th>0</th>\n",
       "      <td>reg rbp</td>\n",
       "      <td>1000</td>\n",
       "    </tr>\n",
       "    <tr>\n",
       "      <th>1</th>\n",
       "      <td>reg rsp</td>\n",
       "      <td>1000</td>\n",
       "    </tr>\n",
       "    <tr>\n",
       "      <th>2</th>\n",
       "      <td>reg rdi</td>\n",
       "      <td>6</td>\n",
       "    </tr>\n",
       "    <tr>\n",
       "      <th>3</th>\n",
       "      <td>reg r8</td>\n",
       "      <td>6</td>\n",
       "    </tr>\n",
       "    <tr>\n",
       "      <th>4</th>\n",
       "      <td>reg rax</td>\n",
       "      <td>6</td>\n",
       "    </tr>\n",
       "    <tr>\n",
       "      <th>5</th>\n",
       "      <td>add1</td>\n",
       "      <td>FunPointer(fun_name='add1')</td>\n",
       "    </tr>\n",
       "    <tr>\n",
       "      <th>6</th>\n",
       "      <td>main</td>\n",
       "      <td>FunPointer(fun_name='main')</td>\n",
       "    </tr>\n",
       "  </tbody>\n",
       "</table>\n",
       "</div>"
      ],
      "text/plain": [
       "  Location                        Value\n",
       "0  reg rbp                         1000\n",
       "1  reg rsp                         1000\n",
       "2  reg rdi                            6\n",
       "3   reg r8                            6\n",
       "4  reg rax                            6\n",
       "5     add1  FunPointer(fun_name='add1')\n",
       "6     main  FunPointer(fun_name='main')"
      ]
     },
     "execution_count": 3,
     "metadata": {},
     "output_type": "execute_result"
    }
   ],
   "source": [
    "from cs202_support.eval_x86 import X86Emulator\n",
    "\n",
    "# Use callq as a jmp that remembers where it came from;\n",
    "# retq to return to where you came from\n",
    "# calling convention:\n",
    "#   put arguments into the registers rdi, rsi, rdx, rcx, r8, r9 - more arguments just turn last one into a tuple\n",
    "#   put return value into rax\n",
    "\n",
    "asm = \"\"\"\n",
    "add1:\n",
    "    movq %rdi, %r8\n",
    "    addq $1, %r8\n",
    "    movq %r8, %rax\n",
    "main:\n",
    "    movq $5, %rdi\n",
    "    callq add1\n",
    "    movq %rax, %rdi\n",
    "    callq print_int\n",
    "\"\"\"\n",
    "\n",
    "emu = X86Emulator(logging=True)\n",
    "emu.eval_program(asm)\n",
    "emu.print_state()"
   ]
  },
  {
   "cell_type": "code",
   "execution_count": null,
   "metadata": {},
   "outputs": [],
   "source": []
  },
  {
   "cell_type": "markdown",
   "metadata": {},
   "source": [
    "## Question 13\n",
    "\n",
    "Describe the *calling convention* we will use for functions in Rfun."
   ]
  },
  {
   "cell_type": "markdown",
   "metadata": {},
   "source": [
    "calling convention:\n",
    "  - put arguments into the registers rdi, rsi, rdx, rcx, r8, r9\n",
    "  - put return value into rax\n",
    "  - book says: for more than 6 parameters put the extra ones in a tuple\n",
    "  - our compiler is limited to <= 6 params"
   ]
  },
  {
   "cell_type": "markdown",
   "metadata": {},
   "source": [
    "## Question 14\n",
    "\n",
    "Describe the management of the *stack* and *root stack* performed on function entry and exit."
   ]
  },
  {
   "cell_type": "markdown",
   "metadata": {},
   "source": [
    "On function entry:\n",
    " - Allocate new stack frame with slots for stack-allocated variables of the function\n",
    " - Allocate a root stack frame with slots for root-stack allocated variables\n",
    "\n",
    "On function exit:\n",
    " - Reclaim the stack space we allocated\n",
    " - Reclaim the root stack space we allocated\n",
    " \n",
    "We do it in the exact same way way as for programs except that we don't initialize the heap on function entry"
   ]
  },
  {
   "cell_type": "markdown",
   "metadata": {},
   "source": [
    "## Question 15\n",
    "\n",
    "Modify the program from earlier to correctly manage the stack and root stack. Allocate the variable `n` on the stack."
   ]
  },
  {
   "cell_type": "code",
   "execution_count": 4,
   "metadata": {},
   "outputs": [
    {
     "name": "stdout",
     "output_type": "stream",
     "text": [
      "============================== STARTING EXECUTION ==============================\n"
     ]
    },
    {
     "ename": "KeyError",
     "evalue": "'add1start'",
     "output_type": "error",
     "traceback": [
      "\u001b[1;31m---------------------------------------------------------------------------\u001b[0m",
      "\u001b[1;31mKeyError\u001b[0m                                  Traceback (most recent call last)",
      "Cell \u001b[1;32mIn[4], line 24\u001b[0m\n\u001b[0;32m      1\u001b[0m asm \u001b[38;5;241m=\u001b[39m \u001b[38;5;124m\"\"\"\u001b[39m\n\u001b[0;32m      2\u001b[0m \u001b[38;5;124maddstart1:\u001b[39m\n\u001b[0;32m      3\u001b[0m \u001b[38;5;124m    movq \u001b[39m\u001b[38;5;132;01m%r\u001b[39;00m\u001b[38;5;124mdi, \u001b[39m\u001b[38;5;132;01m%r\u001b[39;00m\u001b[38;5;124m8\u001b[39m\n\u001b[1;32m   (...)\u001b[0m\n\u001b[0;32m     20\u001b[0m \u001b[38;5;124m    callq print_int\u001b[39m\n\u001b[0;32m     21\u001b[0m \u001b[38;5;124m\"\"\"\u001b[39m\n\u001b[0;32m     23\u001b[0m emu \u001b[38;5;241m=\u001b[39m X86Emulator(logging\u001b[38;5;241m=\u001b[39m\u001b[38;5;28;01mTrue\u001b[39;00m)\n\u001b[1;32m---> 24\u001b[0m \u001b[43memu\u001b[49m\u001b[38;5;241;43m.\u001b[39;49m\u001b[43meval_program\u001b[49m\u001b[43m(\u001b[49m\u001b[43masm\u001b[49m\u001b[43m)\u001b[49m\n\u001b[0;32m     25\u001b[0m emu\u001b[38;5;241m.\u001b[39mprint_state()\n",
      "File \u001b[1;32mD:\\miniconda3\\envs\\cs202\\lib\\site-packages\\cs202_support\\eval_x86.py:45\u001b[0m, in \u001b[0;36mX86Emulator.eval_program\u001b[1;34m(self, s)\u001b[0m\n\u001b[0;32m     42\u001b[0m \u001b[38;5;28mself\u001b[39m\u001b[38;5;241m.\u001b[39mlog(\u001b[38;5;124m'\u001b[39m\u001b[38;5;124m============================== STARTING EXECUTION ==============================\u001b[39m\u001b[38;5;124m'\u001b[39m)\n\u001b[0;32m     44\u001b[0m \u001b[38;5;66;03m# start evaluating at \"main\"\u001b[39;00m\n\u001b[1;32m---> 45\u001b[0m \u001b[38;5;28;43mself\u001b[39;49m\u001b[38;5;241;43m.\u001b[39;49m\u001b[43meval_instrs\u001b[49m\u001b[43m(\u001b[49m\u001b[43mblocks\u001b[49m\u001b[43m[\u001b[49m\u001b[38;5;124;43m'\u001b[39;49m\u001b[38;5;124;43mmain\u001b[39;49m\u001b[38;5;124;43m'\u001b[39;49m\u001b[43m]\u001b[49m\u001b[43m,\u001b[49m\u001b[43m \u001b[49m\u001b[43mblocks\u001b[49m\u001b[43m,\u001b[49m\n\u001b[0;32m     46\u001b[0m \u001b[43m                 \u001b[49m\u001b[43moutput\u001b[49m\u001b[43m)\u001b[49m\n\u001b[0;32m     48\u001b[0m \u001b[38;5;28mself\u001b[39m\u001b[38;5;241m.\u001b[39mlog(\u001b[38;5;124m'\u001b[39m\u001b[38;5;124mFINAL STATE:\u001b[39m\u001b[38;5;124m'\u001b[39m)\n\u001b[0;32m     49\u001b[0m \u001b[38;5;28;01mif\u001b[39;00m \u001b[38;5;28mself\u001b[39m\u001b[38;5;241m.\u001b[39mlogging:\n",
      "File \u001b[1;32mD:\\miniconda3\\envs\\cs202\\lib\\site-packages\\cs202_support\\eval_x86.py:328\u001b[0m, in \u001b[0;36mX86Emulator.eval_instrs\u001b[1;34m(self, instrs, blocks, output)\u001b[0m\n\u001b[0;32m    325\u001b[0m             \u001b[38;5;28mprint\u001b[39m(\u001b[38;5;28mself\u001b[39m\u001b[38;5;241m.\u001b[39mprint_state())\n\u001b[0;32m    327\u001b[0m     \u001b[38;5;28;01melse\u001b[39;00m:\n\u001b[1;32m--> 328\u001b[0m         \u001b[38;5;28;43mself\u001b[39;49m\u001b[38;5;241;43m.\u001b[39;49m\u001b[43meval_instrs\u001b[49m\u001b[43m(\u001b[49m\u001b[43mblocks\u001b[49m\u001b[43m[\u001b[49m\u001b[43mtarget\u001b[49m\u001b[43m]\u001b[49m\u001b[43m,\u001b[49m\u001b[43m \u001b[49m\u001b[43mblocks\u001b[49m\u001b[43m,\u001b[49m\u001b[43m \u001b[49m\u001b[43moutput\u001b[49m\u001b[43m)\u001b[49m\n\u001b[0;32m    330\u001b[0m \u001b[38;5;28;01melif\u001b[39;00m instr\u001b[38;5;241m.\u001b[39mdata \u001b[38;5;241m==\u001b[39m \u001b[38;5;124m'\u001b[39m\u001b[38;5;124mretq\u001b[39m\u001b[38;5;124m'\u001b[39m:\n\u001b[0;32m    331\u001b[0m     \u001b[38;5;28;01mreturn\u001b[39;00m\n",
      "File \u001b[1;32mD:\\miniconda3\\envs\\cs202\\lib\\site-packages\\cs202_support\\eval_x86.py:257\u001b[0m, in \u001b[0;36mX86Emulator.eval_instrs\u001b[1;34m(self, instrs, blocks, output)\u001b[0m\n\u001b[0;32m    254\u001b[0m         perform_jump \u001b[38;5;241m=\u001b[39m \u001b[38;5;28;01mTrue\u001b[39;00m\n\u001b[0;32m    256\u001b[0m     \u001b[38;5;28;01mif\u001b[39;00m perform_jump:\n\u001b[1;32m--> 257\u001b[0m         \u001b[38;5;28mself\u001b[39m\u001b[38;5;241m.\u001b[39meval_instrs(\u001b[43mblocks\u001b[49m\u001b[43m[\u001b[49m\u001b[43mtarget\u001b[49m\u001b[43m]\u001b[49m, blocks, output)\n\u001b[0;32m    258\u001b[0m         \u001b[38;5;28;01mreturn\u001b[39;00m \u001b[38;5;66;03m# after jumping, toss continuation\u001b[39;00m\n\u001b[0;32m    260\u001b[0m \u001b[38;5;28;01melif\u001b[39;00m instr\u001b[38;5;241m.\u001b[39mdata \u001b[38;5;129;01min\u001b[39;00m [\u001b[38;5;124m'\u001b[39m\u001b[38;5;124msete\u001b[39m\u001b[38;5;124m'\u001b[39m, \u001b[38;5;124m'\u001b[39m\u001b[38;5;124msetl\u001b[39m\u001b[38;5;124m'\u001b[39m, \u001b[38;5;124m'\u001b[39m\u001b[38;5;124msetle\u001b[39m\u001b[38;5;124m'\u001b[39m, \u001b[38;5;124m'\u001b[39m\u001b[38;5;124msetg\u001b[39m\u001b[38;5;124m'\u001b[39m, \u001b[38;5;124m'\u001b[39m\u001b[38;5;124msetge\u001b[39m\u001b[38;5;124m'\u001b[39m]:\n",
      "\u001b[1;31mKeyError\u001b[0m: 'add1start'"
     ]
    }
   ],
   "source": [
    "asm = \"\"\"\n",
    "addstart1:\n",
    "    movq %rdi, %r8\n",
    "    addq $1, %r8\n",
    "    movq %r8, %rax\n",
    "    jmp add1conclusion\n",
    "add1:\n",
    "    pushq %rbp\n",
    "    movq %rsp, %rbp\n",
    "    subq $0, %rsp\n",
    "    jmp add1start\n",
    "add1conclusion:\n",
    "    addq $0, %rsp\n",
    "    popq %rbp\n",
    "    retq\n",
    "main:\n",
    "    movq $5, %rdi\n",
    "    callq add1\n",
    "    movq %rax, %rdi\n",
    "    callq print_int\n",
    "\"\"\"\n",
    "\n",
    "emu = X86Emulator(logging=True)\n",
    "emu.eval_program(asm)\n",
    "emu.print_state()"
   ]
  },
  {
   "cell_type": "markdown",
   "metadata": {},
   "source": [
    "## Question 16\n",
    "\n",
    "Modify the program again, to save and restore the *callee-saved registers*."
   ]
  },
  {
   "cell_type": "code",
   "execution_count": 3,
   "metadata": {
    "scrolled": true
   },
   "outputs": [
    {
     "name": "stdout",
     "output_type": "stream",
     "text": [
      "============================== STARTING EXECUTION ==============================\n",
      "CALL TO initialize: 16384, 16\n",
      "           Location                                   Value\n",
      "0           mem 992                                    1000\n",
      "1           reg rbp                                     992\n",
      "2           reg rsp                                     992\n",
      "3           reg rdi                                   16384\n",
      "4           reg rsi                                      16\n",
      "5              main             FunPointer(fun_name='main')\n",
      "6              add1             FunPointer(fun_name='add1')\n",
      "7        add1_start       FunPointer(fun_name='add1_start')\n",
      "8   add1_conclusion  FunPointer(fun_name='add1_conclusion')\n",
      "9             start            FunPointer(fun_name='start')\n",
      "10       conclusion       FunPointer(fun_name='conclusion')\n",
      "11  rootstack_begin                                    2000\n",
      "12    rootstack_end                                   18384\n",
      "13         free_ptr                                  100000\n",
      "14  fromspace_begin                                  100000\n",
      "15    fromspace_end                                  100016\n",
      "CALL TO print_int: 42\n",
      "           Location                                   Value\n",
      "0           mem 952                                    None\n",
      "1           mem 960                                    None\n",
      "2           mem 968                                    None\n",
      "3           mem 976                                      42\n",
      "4           mem 984                                     992\n",
      "5           mem 992                                    1000\n",
      "6           reg rbp                                     992\n",
      "7           reg rsp                                     992\n",
      "8           reg rdi                                      42\n",
      "9           reg rsi                                      16\n",
      "10          reg r15                                    2000\n",
      "11          reg rdx                                      41\n",
      "12          reg rbx                                      42\n",
      "13          reg r12                                    None\n",
      "14          reg r13                                    None\n",
      "15          reg r14                                    None\n",
      "16          reg rax                                      42\n",
      "17             main             FunPointer(fun_name='main')\n",
      "18             add1             FunPointer(fun_name='add1')\n",
      "19       add1_start       FunPointer(fun_name='add1_start')\n",
      "20  add1_conclusion  FunPointer(fun_name='add1_conclusion')\n",
      "21            start            FunPointer(fun_name='start')\n",
      "22       conclusion       FunPointer(fun_name='conclusion')\n",
      "23  rootstack_begin                                    2000\n",
      "24    rootstack_end                                   18384\n",
      "25         free_ptr                                  100000\n",
      "26  fromspace_begin                                  100000\n",
      "27    fromspace_end                                  100016\n",
      "FINAL STATE:\n",
      "           Location                                   Value\n",
      "0           mem 952                                    None\n",
      "1           mem 960                                    None\n",
      "2           mem 968                                    None\n",
      "3           mem 976                                      42\n",
      "4           mem 984                                     992\n",
      "5           mem 992                                    1000\n",
      "6           reg rbp                                    1000\n",
      "7           reg rsp                                    1000\n",
      "8           reg rdi                                      42\n",
      "9           reg rsi                                      16\n",
      "10          reg r15                                    2000\n",
      "11          reg rdx                                      41\n",
      "12          reg rbx                                      42\n",
      "13          reg r12                                    None\n",
      "14          reg r13                                    None\n",
      "15          reg r14                                    None\n",
      "16          reg rax                                       0\n",
      "17             main             FunPointer(fun_name='main')\n",
      "18             add1             FunPointer(fun_name='add1')\n",
      "19       add1_start       FunPointer(fun_name='add1_start')\n",
      "20  add1_conclusion  FunPointer(fun_name='add1_conclusion')\n",
      "21            start            FunPointer(fun_name='start')\n",
      "22       conclusion       FunPointer(fun_name='conclusion')\n",
      "23  rootstack_begin                                    2000\n",
      "24    rootstack_end                                   18384\n",
      "25         free_ptr                                  100000\n",
      "26  fromspace_begin                                  100000\n",
      "27    fromspace_end                                  100016\n",
      "OUTPUT: [42]\n",
      "============================== FINISHED EXECUTION ==============================\n"
     ]
    },
    {
     "data": {
      "text/html": [
       "<div>\n",
       "<style scoped>\n",
       "    .dataframe tbody tr th:only-of-type {\n",
       "        vertical-align: middle;\n",
       "    }\n",
       "\n",
       "    .dataframe tbody tr th {\n",
       "        vertical-align: top;\n",
       "    }\n",
       "\n",
       "    .dataframe thead th {\n",
       "        text-align: right;\n",
       "    }\n",
       "</style>\n",
       "<table border=\"1\" class=\"dataframe\">\n",
       "  <thead>\n",
       "    <tr style=\"text-align: right;\">\n",
       "      <th></th>\n",
       "      <th>Location</th>\n",
       "      <th>Value</th>\n",
       "    </tr>\n",
       "  </thead>\n",
       "  <tbody>\n",
       "    <tr>\n",
       "      <th>0</th>\n",
       "      <td>mem 952</td>\n",
       "      <td>None</td>\n",
       "    </tr>\n",
       "    <tr>\n",
       "      <th>1</th>\n",
       "      <td>mem 960</td>\n",
       "      <td>None</td>\n",
       "    </tr>\n",
       "    <tr>\n",
       "      <th>2</th>\n",
       "      <td>mem 968</td>\n",
       "      <td>None</td>\n",
       "    </tr>\n",
       "    <tr>\n",
       "      <th>3</th>\n",
       "      <td>mem 976</td>\n",
       "      <td>42</td>\n",
       "    </tr>\n",
       "    <tr>\n",
       "      <th>4</th>\n",
       "      <td>mem 984</td>\n",
       "      <td>992</td>\n",
       "    </tr>\n",
       "    <tr>\n",
       "      <th>5</th>\n",
       "      <td>mem 992</td>\n",
       "      <td>1000</td>\n",
       "    </tr>\n",
       "    <tr>\n",
       "      <th>6</th>\n",
       "      <td>reg rbp</td>\n",
       "      <td>1000</td>\n",
       "    </tr>\n",
       "    <tr>\n",
       "      <th>7</th>\n",
       "      <td>reg rsp</td>\n",
       "      <td>1000</td>\n",
       "    </tr>\n",
       "    <tr>\n",
       "      <th>8</th>\n",
       "      <td>reg rdi</td>\n",
       "      <td>42</td>\n",
       "    </tr>\n",
       "    <tr>\n",
       "      <th>9</th>\n",
       "      <td>reg rsi</td>\n",
       "      <td>16</td>\n",
       "    </tr>\n",
       "    <tr>\n",
       "      <th>10</th>\n",
       "      <td>reg r15</td>\n",
       "      <td>2000</td>\n",
       "    </tr>\n",
       "    <tr>\n",
       "      <th>11</th>\n",
       "      <td>reg rdx</td>\n",
       "      <td>41</td>\n",
       "    </tr>\n",
       "    <tr>\n",
       "      <th>12</th>\n",
       "      <td>reg rbx</td>\n",
       "      <td>42</td>\n",
       "    </tr>\n",
       "    <tr>\n",
       "      <th>13</th>\n",
       "      <td>reg r12</td>\n",
       "      <td>None</td>\n",
       "    </tr>\n",
       "    <tr>\n",
       "      <th>14</th>\n",
       "      <td>reg r13</td>\n",
       "      <td>None</td>\n",
       "    </tr>\n",
       "    <tr>\n",
       "      <th>15</th>\n",
       "      <td>reg r14</td>\n",
       "      <td>None</td>\n",
       "    </tr>\n",
       "    <tr>\n",
       "      <th>16</th>\n",
       "      <td>reg rax</td>\n",
       "      <td>0</td>\n",
       "    </tr>\n",
       "    <tr>\n",
       "      <th>17</th>\n",
       "      <td>main</td>\n",
       "      <td>FunPointer(fun_name='main')</td>\n",
       "    </tr>\n",
       "    <tr>\n",
       "      <th>18</th>\n",
       "      <td>add1</td>\n",
       "      <td>FunPointer(fun_name='add1')</td>\n",
       "    </tr>\n",
       "    <tr>\n",
       "      <th>19</th>\n",
       "      <td>add1_start</td>\n",
       "      <td>FunPointer(fun_name='add1_start')</td>\n",
       "    </tr>\n",
       "    <tr>\n",
       "      <th>20</th>\n",
       "      <td>add1_conclusion</td>\n",
       "      <td>FunPointer(fun_name='add1_conclusion')</td>\n",
       "    </tr>\n",
       "    <tr>\n",
       "      <th>21</th>\n",
       "      <td>start</td>\n",
       "      <td>FunPointer(fun_name='start')</td>\n",
       "    </tr>\n",
       "    <tr>\n",
       "      <th>22</th>\n",
       "      <td>conclusion</td>\n",
       "      <td>FunPointer(fun_name='conclusion')</td>\n",
       "    </tr>\n",
       "    <tr>\n",
       "      <th>23</th>\n",
       "      <td>rootstack_begin</td>\n",
       "      <td>2000</td>\n",
       "    </tr>\n",
       "    <tr>\n",
       "      <th>24</th>\n",
       "      <td>rootstack_end</td>\n",
       "      <td>18384</td>\n",
       "    </tr>\n",
       "    <tr>\n",
       "      <th>25</th>\n",
       "      <td>free_ptr</td>\n",
       "      <td>100000</td>\n",
       "    </tr>\n",
       "    <tr>\n",
       "      <th>26</th>\n",
       "      <td>fromspace_begin</td>\n",
       "      <td>100000</td>\n",
       "    </tr>\n",
       "    <tr>\n",
       "      <th>27</th>\n",
       "      <td>fromspace_end</td>\n",
       "      <td>100016</td>\n",
       "    </tr>\n",
       "  </tbody>\n",
       "</table>\n",
       "</div>"
      ],
      "text/plain": [
       "           Location                                   Value\n",
       "0           mem 952                                    None\n",
       "1           mem 960                                    None\n",
       "2           mem 968                                    None\n",
       "3           mem 976                                      42\n",
       "4           mem 984                                     992\n",
       "5           mem 992                                    1000\n",
       "6           reg rbp                                    1000\n",
       "7           reg rsp                                    1000\n",
       "8           reg rdi                                      42\n",
       "9           reg rsi                                      16\n",
       "10          reg r15                                    2000\n",
       "11          reg rdx                                      41\n",
       "12          reg rbx                                      42\n",
       "13          reg r12                                    None\n",
       "14          reg r13                                    None\n",
       "15          reg r14                                    None\n",
       "16          reg rax                                       0\n",
       "17             main             FunPointer(fun_name='main')\n",
       "18             add1             FunPointer(fun_name='add1')\n",
       "19       add1_start       FunPointer(fun_name='add1_start')\n",
       "20  add1_conclusion  FunPointer(fun_name='add1_conclusion')\n",
       "21            start            FunPointer(fun_name='start')\n",
       "22       conclusion       FunPointer(fun_name='conclusion')\n",
       "23  rootstack_begin                                    2000\n",
       "24    rootstack_end                                   18384\n",
       "25         free_ptr                                  100000\n",
       "26  fromspace_begin                                  100000\n",
       "27    fromspace_end                                  100016"
      ]
     },
     "execution_count": 3,
     "metadata": {},
     "output_type": "execute_result"
    }
   ],
   "source": [
    "# There are two kinda of registers: callee-saved and caller-saved\n",
    "# function can do whatever it wants with caller-saved registers\n",
    "# function MUST maintain value of callee-saved registers\n",
    "\n",
    "asm = \"\"\"\n",
    "addstart1:\n",
    "    movq %rdi, %r8\n",
    "    addq $1, %r8\n",
    "    movq %r8, %rax\n",
    "    jmp add1conclusion\n",
    "add1:\n",
    "    pushq %rbp\n",
    "    movq %rsp, %rbp\n",
    "    subq $0, %rsp\n",
    "    pushq %rbx\n",
    "    pushq %r12\n",
    "    pushq %r13\n",
    "    pushq %r14\n",
    "    jmp add1start\n",
    "add1conclusion:\n",
    "    addq $0, %rsp\n",
    "    pushq %r14\n",
    "    pushq %r13\n",
    "    pushq %r12\n",
    "    pushq %rbx\n",
    "    popq %rbp\n",
    "    retq\n",
    "main:\n",
    "    movq $5, %rdi\n",
    "    callq add1\n",
    "    movq %rax, %rdi\n",
    "    callq print_int\n",
    "\"\"\"\n",
    "\n",
    "emu = X86Emulator(logging=True)\n",
    "emu.eval_program(asm)\n",
    "emu.print_state()"
   ]
  },
  {
   "cell_type": "markdown",
   "metadata": {},
   "source": [
    "----\n",
    "# Part 5: Explicate-Control"
   ]
  },
  {
   "cell_type": "markdown",
   "metadata": {},
   "source": [
    "## Question 16\n",
    "\n",
    "Describe the changes to explicate-control."
   ]
  },
  {
   "cell_type": "markdown",
   "metadata": {},
   "source": [
    "Goal of explicate control\n",
    "old:\n",
    "  - covert statements to control-flow graph\n",
    "\n",
    "new:\n",
    "  - convert statements to a list of function definitions, each with its own control flow graph\n",
    "  \n",
    "Explicate-Control works as before, but has three new cases:\n",
    " 1. Return to ec_stmt\n",
    " 2. Add Call to ec_exp: like Prim, but call ec_atm on the function\n",
    " 3. Add FunctionDef to ec_stmt: call ec_function\n"
   ]
  },
  {
   "cell_type": "markdown",
   "metadata": {},
   "source": [
    "## Question 17\n",
    "\n",
    "Describe the ec_function function."
   ]
  },
  {
   "cell_type": "markdown",
   "metadata": {},
   "source": [
    "Change the pass globally:\n",
    " 1. Add a global var to the pass called `current_function` that tracks the function being compiled. It starts out as `main`.\n",
    " 2. Add a global var to pass called `functions` this is a list of function definitions. The ec_function function will add to this list\n",
    " 3. Modify create_block to add the functions name as a prefix to the label it creates\n",
    "\n",
    "`ec_function` function:\n",
    " 1. Save `basic_blocks` abd `current_function` so we can restore them at the end\n",
    " 2. Set `basic_blocks` to {} and `current_function` to the function's name\n",
    " 3. Call ec_stmts on the body statements, with the continuation `Return(0)`\n",
    " 4. Set `basic_blocks[name+ 'start']` to the result of step 3\n",
    " 5. Construct a cfun.FunctionDef with the name, parameter names, and basic_blocks\n",
    " 6. Append the rfunction def to `functions`\n",
    " 7. Restore `basic_blocks` and `current_function`\n"
   ]
  },
  {
   "cell_type": "code",
   "execution_count": null,
   "metadata": {},
   "outputs": [],
   "source": [
    "x = 1\n",
    "def add1(n):\n",
    "    return n+1\n",
    "y = x + 4\n",
    "# statments before function def should belong to outside block"
   ]
  }
 ],
 "metadata": {
  "kernelspec": {
   "display_name": "Python 3 (ipykernel)",
   "language": "python",
   "name": "python3"
  },
  "language_info": {
   "codemirror_mode": {
    "name": "ipython",
    "version": 3
   },
   "file_extension": ".py",
   "mimetype": "text/x-python",
   "name": "python",
   "nbconvert_exporter": "python",
   "pygments_lexer": "ipython3",
   "version": "3.10.9"
  }
 },
 "nbformat": 4,
 "nbformat_minor": 4
}
