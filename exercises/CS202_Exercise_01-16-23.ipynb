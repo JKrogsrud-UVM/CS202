{
 "cells": [
  {
   "cell_type": "markdown",
   "metadata": {},
   "source": [
    "# CS202: Compiler Construction\n",
    "\n",
    "## In-class Exercises, Week of 01/16/2023"
   ]
  },
  {
   "cell_type": "markdown",
   "metadata": {},
   "source": [
    "----\n",
    "# PART I: Abstract Syntax Trees"
   ]
  },
  {
   "cell_type": "markdown",
   "metadata": {},
   "source": [
    "## Question 1\n",
    "\n",
    "The following grammar defines the *concrete syntax* for a language of integer arithmetic (numbers and the \"plus\" operator).\n",
    "\n",
    "\\begin{align*}\n",
    "expr &::= n \\\\\n",
    "&\\mid expr + expr\n",
    "\\end{align*}\n",
    "\n",
    "The following class hierarchy defines an *abstract syntax* for the same language."
   ]
  },
  {
   "cell_type": "code",
   "execution_count": 1,
   "metadata": {},
   "outputs": [],
   "source": [
    "from dataclasses import dataclass\n",
    "from cs202_support.python import AST, print_ast\n",
    "\n",
    "@dataclass\n",
    "class Expr(AST):\n",
    "    pass\n",
    "\n",
    "@dataclass\n",
    "class Constant(Expr):\n",
    "    val: int\n",
    "\n",
    "@dataclass\n",
    "class Plus(Expr):\n",
    "    e1: Expr\n",
    "    e2: Expr"
   ]
  },
  {
   "cell_type": "markdown",
   "metadata": {},
   "source": [
    "Write an abstract syntax tree for the expression `1 + 2 + 3`."
   ]
  },
  {
   "cell_type": "code",
   "execution_count": 2,
   "metadata": {},
   "outputs": [
    {
     "name": "stdout",
     "output_type": "stream",
     "text": [
      "Plus(\n",
      " Constant(1),\n",
      " Plus(\n",
      "  Constant(2),\n",
      "  Constant(3)))\n"
     ]
    }
   ],
   "source": [
    "ast = Plus(Constant(1), Plus(Constant(2),Constant(3)))\n",
    "print(print_ast(ast))"
   ]
  },
  {
   "cell_type": "markdown",
   "metadata": {},
   "source": [
    "## Question 2\n",
    "\n",
    "The code below defines a parser that transforms concrete syntax for this simple language into abstract syntax trees."
   ]
  },
  {
   "cell_type": "code",
   "execution_count": 3,
   "metadata": {},
   "outputs": [],
   "source": [
    "from lark import Lark\n",
    "_rint_parser = Lark(r\"\"\"\n",
    "    ?exp: NUMBER -> int_e\n",
    "        | exp \"+\" exp -> plus_e\n",
    "        | \"(\" exp \")\"\n",
    "    %import common.NUMBER\n",
    "    %import common.CNAME\n",
    "    %import common.WS\n",
    "    %ignore WS\n",
    "    \"\"\", start='exp')\n",
    "\n",
    "def parse(s):\n",
    "    def t_ast(e):\n",
    "        if e.data == 'int_e':\n",
    "            return Constant(int(e.children[0]))\n",
    "        elif e.data == 'plus_e':\n",
    "            e1, e2 = e.children\n",
    "            return Plus(t_ast(e1), t_ast(e2))\n",
    "\n",
    "    parsed = _rint_parser.parse(s)\n",
    "    #print(parsed)\n",
    "    ast = t_ast(parsed)\n",
    "    return ast"
   ]
  },
  {
   "cell_type": "markdown",
   "metadata": {},
   "source": [
    "Write code to use the parser above to parse the expression `1 + 2 + 3` into an abstract syntax tree."
   ]
  },
  {
   "cell_type": "code",
   "execution_count": 4,
   "metadata": {},
   "outputs": [
    {
     "name": "stdout",
     "output_type": "stream",
     "text": [
      "Plus(e1=Plus(e1=Constant(val=1), e2=Constant(val=2)), e2=Constant(val=3))\n",
      "Plus(\n",
      " Plus(\n",
      "  Constant(1),\n",
      "  Constant(2)),\n",
      " Constant(3))\n"
     ]
    }
   ],
   "source": [
    "ast = parse(\"1+2+3\")\n",
    "print(ast)\n",
    "print(print_ast(ast))"
   ]
  },
  {
   "cell_type": "markdown",
   "metadata": {},
   "source": [
    "## Question 3\n",
    "\n",
    "Write an *interpreter* for this language.\n",
    "\n",
    "**The structure of your function should follow the structure of the AST**"
   ]
  },
  {
   "cell_type": "code",
   "execution_count": 5,
   "metadata": {},
   "outputs": [],
   "source": [
    "def eval_rint(e: Expr) -> int:\n",
    "    match e:\n",
    "        case Plus(e1,e2):\n",
    "            return eval_rint(e1) + eval_rint(e2)\n",
    "        case Constant(val):\n",
    "            return val"
   ]
  },
  {
   "cell_type": "code",
   "execution_count": 6,
   "metadata": {},
   "outputs": [],
   "source": [
    "# TEST CASE\n",
    "assert eval_rint(parse('1 + 2 + 3')) == 6\n",
    "assert eval_rint(parse('42 + 20 + 10 + 5 + 5')) == 82"
   ]
  },
  {
   "cell_type": "markdown",
   "metadata": {},
   "source": [
    "----\n",
    "# PART II: x86 Assembly"
   ]
  },
  {
   "cell_type": "code",
   "execution_count": 7,
   "metadata": {},
   "outputs": [],
   "source": [
    "from cs202_support.eval_x86 import X86Emulator"
   ]
  },
  {
   "cell_type": "markdown",
   "metadata": {},
   "source": [
    "## Question 4\n",
    "\n",
    "Write x86 assembly code to add the numbers 1 and 2, putting the result in the register `rax`."
   ]
  },
  {
   "cell_type": "markdown",
   "metadata": {},
   "source": [
    "Class Notes:\n",
    "movq moves number 1 into register rax\n",
    "addq adds the number 2 to whatever is in rax\n",
    "\n",
    "%rax is a register, CPU has around 15, which holds 64-bit values\n",
    "\n",
    "movq moves a value\n",
    "addq adds 2 values\n",
    "retq returns "
   ]
  },
  {
   "cell_type": "code",
   "execution_count": 8,
   "metadata": {},
   "outputs": [
    {
     "data": {
      "text/html": [
       "<div>\n",
       "<style scoped>\n",
       "    .dataframe tbody tr th:only-of-type {\n",
       "        vertical-align: middle;\n",
       "    }\n",
       "\n",
       "    .dataframe tbody tr th {\n",
       "        vertical-align: top;\n",
       "    }\n",
       "\n",
       "    .dataframe thead th {\n",
       "        text-align: right;\n",
       "    }\n",
       "</style>\n",
       "<table border=\"1\" class=\"dataframe\">\n",
       "  <thead>\n",
       "    <tr style=\"text-align: right;\">\n",
       "      <th></th>\n",
       "      <th>Location</th>\n",
       "      <th>Old</th>\n",
       "      <th>New</th>\n",
       "    </tr>\n",
       "  </thead>\n",
       "  <tbody>\n",
       "    <tr>\n",
       "      <th>0</th>\n",
       "      <td>reg rax</td>\n",
       "      <td>None</td>\n",
       "      <td>3</td>\n",
       "    </tr>\n",
       "  </tbody>\n",
       "</table>\n",
       "</div>"
      ],
      "text/plain": [
       "  Location   Old  New\n",
       "0  reg rax  None    3"
      ]
     },
     "execution_count": 8,
     "metadata": {},
     "output_type": "execute_result"
    }
   ],
   "source": [
    "emu = X86Emulator(logging = False)\n",
    "emu.eval_instructions(\"\"\"\n",
    "                        movq $1, %rax\n",
    "                        addq $2, %rax\n",
    "                        retq\"\"\")"
   ]
  },
  {
   "cell_type": "markdown",
   "metadata": {},
   "source": [
    "arguments are always registers and immediates (constants)\n",
    "\n",
    "movq - command\n",
    "\n",
    "$1 - Constant 1\n",
    "\n",
    "%rax is a register"
   ]
  },
  {
   "cell_type": "markdown",
   "metadata": {},
   "source": [
    "## Question 5 \n",
    "\n",
    "Write x86 assembly code to add the numbers 1, 2, 3, and 4, putting the result in the register `rdi`."
   ]
  },
  {
   "cell_type": "code",
   "execution_count": 9,
   "metadata": {},
   "outputs": [
    {
     "data": {
      "text/html": [
       "<div>\n",
       "<style scoped>\n",
       "    .dataframe tbody tr th:only-of-type {\n",
       "        vertical-align: middle;\n",
       "    }\n",
       "\n",
       "    .dataframe tbody tr th {\n",
       "        vertical-align: top;\n",
       "    }\n",
       "\n",
       "    .dataframe thead th {\n",
       "        text-align: right;\n",
       "    }\n",
       "</style>\n",
       "<table border=\"1\" class=\"dataframe\">\n",
       "  <thead>\n",
       "    <tr style=\"text-align: right;\">\n",
       "      <th></th>\n",
       "      <th>Location</th>\n",
       "      <th>Old</th>\n",
       "      <th>New</th>\n",
       "    </tr>\n",
       "  </thead>\n",
       "  <tbody>\n",
       "    <tr>\n",
       "      <th>0</th>\n",
       "      <td>reg rdi</td>\n",
       "      <td>None</td>\n",
       "      <td>10</td>\n",
       "    </tr>\n",
       "  </tbody>\n",
       "</table>\n",
       "</div>"
      ],
      "text/plain": [
       "  Location   Old  New\n",
       "0  reg rdi  None   10"
      ]
     },
     "execution_count": 9,
     "metadata": {},
     "output_type": "execute_result"
    }
   ],
   "source": [
    "emu = X86Emulator(logging = False)\n",
    "emu.eval_instructions(\"\"\"\n",
    "                        movq $1, %rdi\n",
    "                        addq $2, %rdi\n",
    "                        addq $3, %rdi\n",
    "                        addq $4, %rdi\n",
    "                        retq\"\"\")"
   ]
  },
  {
   "cell_type": "markdown",
   "metadata": {},
   "source": [
    "## Question 6\n",
    "\n",
    "Write a complete x86 program to:\n",
    "\n",
    "- Place the number 42 in the register `rdi`\n",
    "- Call the function `print_int` in the runtime\n",
    "- Return cleanly to the operating system\n",
    "\n",
    "Hint: try using the [Assignment 1 online compiler](https://jnear.w3.uvm.edu/cs202/compiler-a1.php)."
   ]
  },
  {
   "cell_type": "code",
   "execution_count": 10,
   "metadata": {},
   "outputs": [
    {
     "data": {
      "text/plain": [
       "[42]"
      ]
     },
     "execution_count": 10,
     "metadata": {},
     "output_type": "execute_result"
    }
   ],
   "source": [
    "emu = X86Emulator(logging = False)\n",
    "emu.eval_program(\"\"\"\n",
    ".globl main\n",
    "main:\n",
    "  movq $42, %rdi\n",
    "  callq print_int\n",
    "  retq\n",
    "\"\"\")"
   ]
  },
  {
   "cell_type": "code",
   "execution_count": 11,
   "metadata": {},
   "outputs": [
    {
     "data": {
      "text/plain": [
       "[42, 42]"
      ]
     },
     "execution_count": 11,
     "metadata": {},
     "output_type": "execute_result"
    }
   ],
   "source": [
    "# Note what happens when you callq twice\n",
    "emu = X86Emulator(logging = False)\n",
    "emu.eval_program(\"\"\"\n",
    ".globl main\n",
    "main:\n",
    "  movq $42, %rdi\n",
    "  callq print_int\n",
    "  callq print_int\n",
    "  retq\n",
    "\"\"\")"
   ]
  },
  {
   "cell_type": "markdown",
   "metadata": {},
   "source": [
    "This prints the list containing 42\n",
    "\n",
    "note that print_int doesn't have arguments!\n",
    "First argument by convention is contained register %rdi"
   ]
  },
  {
   "cell_type": "markdown",
   "metadata": {},
   "source": [
    "## Question 7\n",
    "\n",
    "Write code to generate a *pseudo-x86 abstract syntax tree* for the `main` block in the program above.\n",
    "\n",
    "Hint: reference the [pseudo-x86 AST class hierarchy](https://github.com/jnear/cs202-assignments/blob/master/cs202_support/x86exp.py). Debug your solution using the online compiler's output for the `select instructions` pass."
   ]
  },
  {
   "cell_type": "code",
   "execution_count": 12,
   "metadata": {},
   "outputs": [
    {
     "name": "stdout",
     "output_type": "stream",
     "text": [
      "X86Program(\n",
      " {\n",
      "  'main':\n",
      "   [\n",
      "    NamedInstr(\n",
      "     \"movq\",\n",
      "     [\n",
      "      Immediate(42),\n",
      "      Reg(\"rdi\")\n",
      "     ]),\n",
      "    Callq(\"print_int\"),\n",
      "    Retq()\n",
      "   ]\n",
      " },\n",
      " None)\n"
     ]
    }
   ],
   "source": [
    "import cs202_support.x86 as x86\n",
    "\n",
    "ast = x86.X86Program(\n",
    " {\n",
    "  'main':\n",
    "   [\n",
    "    x86.NamedInstr(\n",
    "     \"movq\",\n",
    "     [\n",
    "      x86.Immediate(42),\n",
    "      x86.Reg(\"rdi\")\n",
    "     ]),\n",
    "    x86.Callq(\"print_int\"),\n",
    "    x86.Retq()\n",
    "   ]\n",
    " },\n",
    " None)\n",
    "\n",
    "print(print_ast(ast))"
   ]
  },
  {
   "cell_type": "markdown",
   "metadata": {},
   "source": [
    "NamedInstr - called \"movq\"\n",
    "Immediate - Constants\n",
    "Reg - registers\n",
    "Callq"
   ]
  },
  {
   "cell_type": "markdown",
   "metadata": {},
   "source": [
    "## Question 8\n",
    "\n",
    "What is the purpose of the `select_instructions` pass of the compiler? How should it be implemented?"
   ]
  },
  {
   "cell_type": "markdown",
   "metadata": {},
   "source": [
    "It breaks down the abstract syntax of the input program into the concrete calls the\n",
    "assembly language is going to need to do. Something another pass will be able to easier\n",
    "extract information from.\n",
    "\n",
    "The next call can individually parse what the NamedInstr means for x86Assembly language, Callq and Retq into\n",
    "seperate lines."
   ]
  },
  {
   "cell_type": "code",
   "execution_count": 13,
   "metadata": {},
   "outputs": [
    {
     "ename": "NameError",
     "evalue": "name 'Program' is not defined",
     "output_type": "error",
     "traceback": [
      "\u001b[1;31m---------------------------------------------------------------------------\u001b[0m",
      "\u001b[1;31mNameError\u001b[0m                                 Traceback (most recent call last)",
      "Cell \u001b[1;32mIn[13], line 1\u001b[0m\n\u001b[1;32m----> 1\u001b[0m \u001b[38;5;28;01mdef\u001b[39;00m \u001b[38;5;21mselect_instructions\u001b[39m(program: \u001b[43mProgram\u001b[49m) \u001b[38;5;241m-\u001b[39m\u001b[38;5;241m>\u001b[39m x86\u001b[38;5;241m.\u001b[39mX86Program:\n\u001b[0;32m      2\u001b[0m \u001b[38;5;250m    \u001b[39m\u001b[38;5;124;03m\"\"\"\u001b[39;00m\n\u001b[0;32m      3\u001b[0m \u001b[38;5;124;03m    Transforms a Lmin program into a pseudo-x86 assembly program.\u001b[39;00m\n\u001b[0;32m      4\u001b[0m \u001b[38;5;124;03m    :param program: a Lmin program\u001b[39;00m\n\u001b[0;32m      5\u001b[0m \u001b[38;5;124;03m    :return: a pseudo-x86 program\u001b[39;00m\n\u001b[0;32m      6\u001b[0m \u001b[38;5;124;03m    \"\"\"\u001b[39;00m\n\u001b[0;32m      7\u001b[0m     \u001b[38;5;28;01mmatch\u001b[39;00m program:\n",
      "\u001b[1;31mNameError\u001b[0m: name 'Program' is not defined"
     ]
    }
   ],
   "source": [
    "from typing import List, Set, Dict, Tuple\n",
    "import sys\n",
    "\n",
    "from cs202_support.python import *\n",
    "import cs202_support.x86 as x86\n",
    "\n",
    "\n",
    "##################################################\n",
    "# select-instructions\n",
    "##################################################\n",
    "\n",
    "def select_instructions(program: Program) -> x86.X86Program:\n",
    "    \"\"\"\n",
    "    Transforms a Lmin program into a pseudo-x86 assembly program.\n",
    "    :param program: a Lmin program\n",
    "    :return: a pseudo-x86 program\n",
    "    \"\"\"\n",
    "    match program:\n",
    "        case Program([Print(Constant(val))]):\n",
    "            return x86.X86Program(\n",
    "                {\n",
    "                    'main':\n",
    "                        [\n",
    "                            x86.NamedInstr(\n",
    "                                \"movq\",\n",
    "                                [\n",
    "                                    x86.Immediate(val),\n",
    "                                    x86.Reg(\"rdi\")\n",
    "                                ]),\n",
    "                            x86.Callq(\"print_int\"),\n",
    "                            x86.Retq()\n",
    "                        ]\n",
    "                },\n",
    "                None)\n",
    "    pass\n",
    "\n",
    "\n",
    "##################################################\n",
    "# Compiler definition\n",
    "##################################################\n",
    "\n",
    "compiler_passes = {\n",
    "    'select instructions': select_instructions,\n",
    "    'print x86': x86.print_x86\n",
    "}\n",
    "\n",
    "\n",
    "def run_compiler(s, logging=False):\n",
    "    current_program = parse(s)\n",
    "\n",
    "    if logging == True:\n",
    "        print()\n",
    "        print('==================================================')\n",
    "        print(' Input program')\n",
    "        print('==================================================')\n",
    "        print()\n",
    "        print(print_ast(current_program))\n",
    "\n",
    "    for pass_name, pass_fn in compiler_passes.items():\n",
    "        current_program = pass_fn(current_program)\n",
    "\n",
    "        if logging == True:\n",
    "            print()\n",
    "            print('==================================================')\n",
    "            print(f' Output of pass: {pass_name}')\n",
    "            print('==================================================')\n",
    "            print()\n",
    "            print(print_ast(current_program))\n",
    "\n",
    "    return current_program\n",
    "\n",
    "\n",
    "if __name__ == '__main__':\n",
    "    if len(sys.argv) != 2:\n",
    "        print('Usage: python compiler.py <source filename>')\n",
    "    else:\n",
    "        file_name = sys.argv[1]\n",
    "        with open(file_name) as f:\n",
    "            print(f'Compiling program {file_name}...')\n",
    "\n",
    "            try:\n",
    "                input_program = f.read()\n",
    "                x86_program = run_compiler(input_program, logging=True)\n",
    "\n",
    "                with open(file_name + '.s', 'w') as output_file:\n",
    "                    output_file.write(x86_program)\n",
    "\n",
    "            except Exception as e:\n",
    "                raise Exception('Error during compilation:', e)\n"
   ]
  },
  {
   "cell_type": "code",
   "execution_count": null,
   "metadata": {},
   "outputs": [],
   "source": []
  }
 ],
 "metadata": {
  "kernelspec": {
   "display_name": "Python 3 (ipykernel)",
   "language": "python",
   "name": "python3"
  },
  "language_info": {
   "codemirror_mode": {
    "name": "ipython",
    "version": 3
   },
   "file_extension": ".py",
   "mimetype": "text/x-python",
   "name": "python",
   "nbconvert_exporter": "python",
   "pygments_lexer": "ipython3",
   "version": "3.10.9"
  }
 },
 "nbformat": 4,
 "nbformat_minor": 2
}
