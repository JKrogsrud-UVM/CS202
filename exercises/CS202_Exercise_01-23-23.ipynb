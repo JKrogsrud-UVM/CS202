{
 "cells": [
  {
   "cell_type": "markdown",
   "metadata": {},
   "source": [
    "# CS202: Compiler Construction\n",
    "\n",
    "## In-class Exercises, Week of 01/23/2023"
   ]
  },
  {
   "cell_type": "markdown",
   "metadata": {},
   "source": [
    "----"
   ]
  },
  {
   "cell_type": "markdown",
   "metadata": {},
   "source": [
    "Online diff checker: diffchecker.com"
   ]
  },
  {
   "cell_type": "markdown",
   "metadata": {},
   "source": [
    "# Part 1: Lvar"
   ]
  },
  {
   "cell_type": "markdown",
   "metadata": {},
   "source": [
    "## Question 1\n",
    "\n",
    "Write an interpreter `eval_lvar` for the `Lvar` language. Reference the grammar: Figure 2.2 (page 14) in the textbook, and our simplified AST in the [Assignment 2 Description](https://github.com/jnear/cs202-compiler-construction/blob/master/homework/hw2.md)."
   ]
  },
  {
   "cell_type": "code",
   "execution_count": 1,
   "metadata": {},
   "outputs": [],
   "source": [
    "from typing import Dict\n",
    "from cs202_support.python import *\n",
    "\n",
    "# Structure for an interpreter \n",
    "# 1. Create a new nested functiion for each ledt-hand side of the grammar\n",
    "# 2. In each nested function match the argument\n",
    "# 3. add a match case for each right-hand side of the grammar\n",
    "\n",
    "# Notes, variables need something stored in them to use them\n",
    "# Environment will map variables tro values\n",
    "# env: vars -> val\n",
    "# env: {x:5} <- we will be using python dictionaries for this\n",
    "\n",
    "# Compiler will work slightly differently as the environment might need to map\n",
    "# variables to expressions not necessarily values\n",
    "\n",
    "def eval_lvar(program: Program):\n",
    "    \n",
    "#     op ::= \"add\"\n",
    "#     Expr ::= Var(x) | Constant(n) | Prim(op, [Expr])\n",
    "#     Stmt ::= Assign(x, Expr) | Print(Expr)\n",
    "#     LVar ::= Program([Stmt])\n",
    "    \n",
    "    # Don't necessary need to def within eval_lvar but its not really used anywhere else\n",
    "    # so we keep it encapsulated\n",
    "    def eval_stmt(s: Stmt, env: Dict[str, int]):\n",
    "        match s:\n",
    "            case Assign(x, e):\n",
    "                env[x]=eval_expr(e, env)\n",
    "            case Print(e):\n",
    "                v = eval_expr(e, env)\n",
    "                print(v)\n",
    "    \n",
    "    def eval_expr(e: Expr, env: Dict[str, int]) -> int: # This dictionary takes strings to ints\n",
    "        match e:\n",
    "            case Var(x):\n",
    "                return env[x]\n",
    "            case Constant(n): # value of a number is just the number\n",
    "                return n\n",
    "            case Prim('add', [e1, e2]): # evaluate each expression and then add them together\n",
    "                val1 = eval_expr(e1, env)\n",
    "                val2 = eval_expr(e2, env)\n",
    "                return val1+val2\n",
    "\n",
    "    env = {}\n",
    "    for s in program.stmts:\n",
    "        eval_stmt(s, env)"
   ]
  },
  {
   "cell_type": "code",
   "execution_count": 2,
   "metadata": {},
   "outputs": [
    {
     "name": "stdout",
     "output_type": "stream",
     "text": [
      "11\n"
     ]
    }
   ],
   "source": [
    "# TEST CASE\n",
    "program = \"\"\"\n",
    "x = 5\n",
    "y = 6\n",
    "print(x + y)\"\"\"\n",
    "\n",
    "eval_lvar(parse(program))"
   ]
  },
  {
   "cell_type": "markdown",
   "metadata": {},
   "source": [
    "----\n",
    "# PART 2: Remove Complex Operands"
   ]
  },
  {
   "cell_type": "markdown",
   "metadata": {},
   "source": [
    "## Question 2\n",
    "\n",
    "Consider this translation of an expression to assembly language. What is wrong with it?"
   ]
  },
  {
   "cell_type": "code",
   "execution_count": 3,
   "metadata": {},
   "outputs": [],
   "source": [
    "python = \"\"\"\n",
    "x = 1 + 2 + 3\n",
    "\"\"\"\n",
    "\n",
    "asm = \"\"\"\n",
    "movq $2, %rax\n",
    "addq $1, (addq $3, %rax)\n",
    "\"\"\""
   ]
  },
  {
   "cell_type": "markdown",
   "metadata": {},
   "source": [
    "Assembly language doesn't do nested instructions. Arguments need to be \"atomic\".\n",
    "\n",
    "\n",
    "atomic:  \n",
    "- Register\n",
    "- Memory Location\n",
    "- Constant"
   ]
  },
  {
   "cell_type": "markdown",
   "metadata": {},
   "source": [
    "## Question 3\n",
    "\n",
    "Which AST nodes in the language `Lvar` are **atomic**?\n",
    "\n",
    "- Var(x)\n",
    "- Constant(n)\n",
    "\n",
    "Prim is not atomic as it has sub-expressions"
   ]
  },
  {
   "cell_type": "markdown",
   "metadata": {},
   "source": [
    "## Question 4\n",
    "\n",
    "Why do we need this pass? What is the form of its output?"
   ]
  },
  {
   "cell_type": "markdown",
   "metadata": {},
   "source": [
    "This pass un-nests nested expressions because you can't have nested expressions in x86 Assembly language.\n",
    "\n",
    "The form of the output:\n",
    " - The output of this pass will have primitives with only atomic arguments\n",
    "\n",
    "This format is called A-normal (or monatic normal form in txtbook)"
   ]
  },
  {
   "cell_type": "markdown",
   "metadata": {},
   "source": [
    "## Question 5\n",
    "\n",
    "Convert the program from earlier into A-normal form."
   ]
  },
  {
   "cell_type": "code",
   "execution_count": 4,
   "metadata": {},
   "outputs": [],
   "source": [
    "python = \"\"\"\n",
    "x = 1 + 2 + 3\n",
    "\"\"\""
   ]
  },
  {
   "cell_type": "code",
   "execution_count": 5,
   "metadata": {},
   "outputs": [],
   "source": [
    "python_anf = \"\"\"\n",
    "x = 1 + 2\n",
    "x = x + 3 <--- my guess\n",
    "\"\"\"\n",
    "\n",
    "python_anf = \"\"\"\n",
    "tmp1 = 1 + 2\n",
    "x = tmp1 + 3\n",
    "\"\"\""
   ]
  },
  {
   "cell_type": "markdown",
   "metadata": {},
   "source": [
    "## Question 6\n",
    "\n",
    "Describe a recursive procedure to perform the *remove-complex-opera* pass. Reference section 2.4 in the textbook."
   ]
  },
  {
   "cell_type": "markdown",
   "metadata": {},
   "source": [
    "Our structure will follow the stucture of the grammar:\n",
    "\n",
    "- rco_exp compiles an expression\n",
    "    - Constants and variables just return it\n",
    "    - For a Prim expression, that might have expressions that are not atomic\n",
    "        which we need to make atomic.\n",
    "        - For each arg to the prim, create a new tmp variable (if needed) and bind it to the result of compiling the argument expression.\n",
    "        - We can store new bindings in an environment which maps strings to expressions str -> Expr\n",
    "- rco_stmt compiles a statement\n",
    "    - Assign(x,e): call rco_exp on e\n",
    "    - Print(e): call rco_exp on e\n",
    "    - Challenge: what about bindings?\n",
    "- rco_stmts compiles a list of statements\n",
    "    - For each stmt\n",
    "        - call rco stmt on each stmt\n",
    "        - turn the bindings that were created into assignment statements\n"
   ]
  },
  {
   "cell_type": "markdown",
   "metadata": {},
   "source": [
    "----\n",
    "# Part 3: Select-instructions\n",
    "\n",
    "The select-instructions pass transforms a sequence of statements into X86 assembly instructions."
   ]
  },
  {
   "cell_type": "markdown",
   "metadata": {},
   "source": [
    "## Question 7\n",
    "\n",
    "Convert the following `Lvar` code into a psuedo-x86 assembly program.\n",
    "\n",
    "```\n",
    "Module([Assign([Name(\"y\")], Constant(5)),\n",
    "        Assign([Name(\"x\")], Name(\"y\")),\n",
    "        Expr(Call(Name(\"print\"), [Name(\"x\")]))\n",
    "])\n",
    "```"
   ]
  },
  {
   "cell_type": "markdown",
   "metadata": {},
   "source": [
    "SKIP FOR NOW (Do it Monday)"
   ]
  },
  {
   "cell_type": "markdown",
   "metadata": {},
   "source": [
    "## Question 8\n",
    "\n",
    "Describe the structure of select-instructions."
   ]
  },
  {
   "cell_type": "markdown",
   "metadata": {},
   "source": [
    "SKIP FOR NOW (Do it Monday)"
   ]
  }
 ],
 "metadata": {
  "kernelspec": {
   "display_name": "Python 3 (ipykernel)",
   "language": "python",
   "name": "python3"
  },
  "language_info": {
   "codemirror_mode": {
    "name": "ipython",
    "version": 3
   },
   "file_extension": ".py",
   "mimetype": "text/x-python",
   "name": "python",
   "nbconvert_exporter": "python",
   "pygments_lexer": "ipython3",
   "version": "3.10.9"
  }
 },
 "nbformat": 4,
 "nbformat_minor": 2
}
