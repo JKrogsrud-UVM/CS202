{
 "cells": [
  {
   "cell_type": "markdown",
   "metadata": {},
   "source": [
    "# CS202: Compiler Construction\n",
    "\n",
    "## In-class Exercises, Week of 02/06/2023\n",
    "\n",
    "----"
   ]
  },
  {
   "cell_type": "markdown",
   "metadata": {},
   "source": [
    "Notes:\n",
    "\n",
    "            Size      Speed\n",
    "Registers   ~15       incredibly fast\n",
    "Memory      lots      slow\n",
    "\n",
    "So avoiding memory and using registers as much as possible is the biggest optimization\n",
    "there is. (The other is static type checking in a month)"
   ]
  },
  {
   "cell_type": "markdown",
   "metadata": {},
   "source": [
    "# Register allocation\n",
    "\n",
    "*Register allocation* is the process of assigning register locations to program variables."
   ]
  },
  {
   "cell_type": "markdown",
   "metadata": {},
   "source": [
    "## Question 1\n",
    "\n",
    "Why is register allocation important?"
   ]
  },
  {
   "cell_type": "markdown",
   "metadata": {},
   "source": [
    "It makes the programs a lot faster. Registers are much faster than memory. Probably the biggest optimization\n",
    "you can do."
   ]
  },
  {
   "cell_type": "markdown",
   "metadata": {},
   "source": [
    "## Question 2\n",
    "\n",
    "Consider the program:\n",
    "\n",
    "```\n",
    "x = 5\n",
    "y = x + 6\n",
    "y + 7\n",
    "```\n",
    "\n",
    "Here is the equivalent in x86 assembly, using the stack to hold variable values.\n",
    "\n",
    "```\n",
    "...\n",
    "start:\n",
    "  movq $5, -8(%rbp)\n",
    "  movq -8(%rbp), %rax\n",
    "  movq %rax, -16(%rbp)\n",
    "  addq $6, -16(%rbp)\n",
    "  movq -16(%rbp), %rax\n",
    "  movq %rax, -24(%rbp)\n",
    "  addq $7, -24(%rbp)\n",
    "  movq -24(%rbp), %rax\n",
    "  jmp conclusion\n",
    "...\n",
    "```\n",
    "\n",
    "Convert this program into one that only uses registers."
   ]
  },
  {
   "cell_type": "markdown",
   "metadata": {},
   "source": [
    "lets assign each stack location with a register instead, then find and replace.\n",
    "\n",
    "textbook shows registers and calling convention\n",
    "rax: tmp location (so don't want to use that)\n",
    "\n",
    "lets use r8 through r11\n",
    "\n",
    "-8 -> r8\n",
    "-16 -> r9\n",
    "-24 -> r10\n",
    "```\n",
    "...\n",
    "start:\n",
    "  movq $5, -8(%rbp)\n",
    "  movq -8(%rbp), %rax\n",
    "  movq %rax, -16(%rbp)\n",
    "  addq $6, -16(%rbp)\n",
    "  movq -16(%rbp), %rax\n",
    "  movq %rax, -24(%rbp)\n",
    "  addq $7, -24(%rbp)\n",
    "  movq -24(%rbp), %rax\n",
    "  jmp conclusion\n",
    "...\n",
    "```\n",
    "\n",
    "becomes:\n",
    "\n",
    "```\n",
    "...\n",
    "start:\n",
    "  movq $5, %r8\n",
    "  movq %r8, %rax\n",
    "  movq %rax, %r9\n",
    "  addq $6, %r9\n",
    "  movq %r9, %rax\n",
    "  movq %rax, %r10\n",
    "  addq $7, %r10\n",
    "  movq %r10, %rax\n",
    "  jmp conclusion\n",
    "...\n",
    "```"
   ]
  },
  {
   "cell_type": "markdown",
   "metadata": {},
   "source": [
    "## Question 3\n",
    "\n",
    "How many registers are *actually needed* to represent this program?"
   ]
  },
  {
   "cell_type": "markdown",
   "metadata": {},
   "source": [
    "Could have used r8 for all of these. All the vairbale can share one location without changing the meaning of the program.\n",
    "\n",
    "Could have used %rax!"
   ]
  },
  {
   "cell_type": "markdown",
   "metadata": {},
   "source": [
    "## Question 4\n",
    "\n",
    "Why is *optimal* register allocation hard?"
   ]
  },
  {
   "cell_type": "markdown",
   "metadata": {},
   "source": [
    "This easy to do by hand but coming up with a general form for the compiler to do.\n",
    "Every variable getting a register is a waste.\n",
    "\n",
    "Optimal register allocation is actually NP-Complete! (not easy)\n",
    "\n",
    "We need an approximately optimal algorithm that runs fast enough for practical use.\n",
    "(we'll be using a quadratic time one)\n",
    "\n"
   ]
  },
  {
   "cell_type": "markdown",
   "metadata": {},
   "source": [
    "## Note\n",
    "\n",
    "Our solution to register allocation will involve three parts:\n",
    "\n",
    "1. [*Liveness analysis*](https://en.wikipedia.org/wiki/Live_variable_analysis), to understand when a variable's value is no longer needed\n",
    "2. Building an *interference graph* with edges between variables that cannot share a register\n",
    "3. Allocating registers to variables by *coloring the interference graph* ([graph coloring](https://en.wikipedia.org/wiki/Graph_coloring) is NP-hard)"
   ]
  },
  {
   "cell_type": "markdown",
   "metadata": {},
   "source": [
    "Interference graph will be a graph where variables are nodes in a graph\n",
    "an edge between them mean they interfere. i.e. storing them in the same location\n",
    "will break the program.\n",
    "\n",
    "GOAL:\n",
    "\n",
    "1) Try to minimize number of locations will maximize the register usage.\n",
    "    - Liveness Analysis\n",
    "\n",
    "2) We will do this by maximizing sharing of locations\n",
    "\n",
    "3) Can x, y share a location? => Are x and y live at same time?\n",
    "    - Interference Graph\n",
    "    - Graph Coloring\n",
    "   "
   ]
  },
  {
   "cell_type": "markdown",
   "metadata": {},
   "source": [
    "----"
   ]
  },
  {
   "cell_type": "markdown",
   "metadata": {},
   "source": [
    "# Liveness Analysis\n",
    "\n",
    "The first part of the allocate-registers pass performs a *liveness analysis* on the program.\n",
    "\n",
    "This is an example of a program analysis (a program that looks at other programs)\n",
    "\n",
    "What does it mean for a variable to be live?\n",
    " - x is live is we will need its value later\n",
    "     - Ex: \n",
    "           x = 5 + 6 (x live)\n",
    "           y = x + 7 (y live)\n",
    "           z = y + 8 (nothing live)\n",
    " - So at each line we make a set of live variables\n",
    " \n",
    "The algorithm to do this is O(n^2) if we start from top and scan for when things are used.\n",
    "\n",
    "This becomes O(n) if we start from the bottom:\n",
    " - Start at bottom: Empty set of variables\n",
    " - Next line up: add Cars read from, remove vars written to\n",
    " \n",
    "So why in x86 instead of python?\n",
    " - variables are set\n",
    " - control flow (not an issue in this assignment, but will be later)"
   ]
  },
  {
   "cell_type": "markdown",
   "metadata": {},
   "source": [
    "## Question 5\n",
    "\n",
    "Here is the pseudo-x86 equivalent of the program from earlier, written in x86 assembly syntax:\n",
    "\n",
    "```\n",
    "start:\n",
    " movq $5, x\n",
    " movq x, y\n",
    " addq $6, y\n",
    " movq y, r\n",
    " addq $7, r\n",
    " movq r, %rax\n",
    "```\n",
    "\n",
    "In the table below, annotate each instruction with its *live-after set*.\n",
    "\n",
    "Use the following rule to determine the live-after set for instruction $k$:\n",
    "\n",
    "\\begin{align}\n",
    "L_{after}(k) = (L_{after}(k+1) − W (k+1)) \\cup R(k+1)\n",
    "\\end{align}\n",
    "\n",
    "where $W$ means the variables written by the instruction, and $R$ means the variables read by an instruction. See section 3.2 in the textbook for more."
   ]
  },
  {
   "cell_type": "markdown",
   "metadata": {},
   "source": [
    "## Question 6\n",
    "\n",
    "Describe the liveness analysis in the compiler."
   ]
  },
  {
   "cell_type": "markdown",
   "metadata": {},
   "source": [
    "Big Idea:\n",
    "   - Process instructions in reverese order\n",
    "   - STart with empty live-after set\n",
    "   - Produce the next live-after set using the previous one based on previously stated rule\n",
    "    \n",
    "Structure:\n",
    "   - Wre can use two functions:\n",
    "       - `ul_instrs`: given instructions k+1 and the live-after set for instructions k+1, produce the live-after set for instructions k (use rule)\n",
    "       - `ul_block`: \n",
    "           - Start with empty list live-after sets\n",
    "           - start with empty current live-after set\n",
    "           - loop over ionstructions in reverese order\n",
    "               - call `ul_instr` to get the next live after-set\n",
    "               - add it to the list\n",
    "           - at the end, reverese the liost of live-after sets and return it"
   ]
  },
  {
   "cell_type": "markdown",
   "metadata": {},
   "source": [
    "----"
   ]
  },
  {
   "cell_type": "markdown",
   "metadata": {},
   "source": [
    "# Interference Graph\n",
    "\n",
    "The second part of the allocate-registers pass will build an *interference graph* using the live-after sets computed earlier. The interference graph is an undirected graph with a node for each program variable, and an edge between each pair of variables which may *not* share a home."
   ]
  },
  {
   "cell_type": "markdown",
   "metadata": {},
   "source": [
    "## Question 7\n",
    "\n",
    "Using the instructions and live-after sets from question 5, draw the interference graph.\n",
    "\n",
    "Use the following principle: *the writes performed by an instruction must not overwrite something in a live location*."
   ]
  },
  {
   "cell_type": "markdown",
   "metadata": {},
   "source": [
    "Interference Graph has no edges, all the variables can go to same location"
   ]
  },
  {
   "cell_type": "raw",
   "metadata": {},
   "source": [
    "x      y\n",
    "\n",
    "   r"
   ]
  },
  {
   "cell_type": "markdown",
   "metadata": {},
   "source": [
    "## Question 8\n",
    "\n",
    "Using the instructions and live-after sets below, draw the interference graph.\n",
    "\n",
    "| Instruction    | Live-After Set |\n",
    "| :------------- | :------------- |\n",
    "| `start:`       | {} |\n",
    "| `movq $1, a`   | {a}|\n",
    "| `movq $2, b`   | {a, b} |\n",
    "| `movq $3, c`   | {a, b, c} |\n",
    "| `movq a, t`    | {b, c, t} |\n",
    "| `addq b, t`    | {c, t} |\n",
    "| `movq t, r`    | {c, r} |\n",
    "| `addq c, r`    | {r} |\n",
    "| `movq r, %rax` | {}  |\n",
    "  _____\n",
    " /     \\\n",
    "a---b---c\n",
    "     \\ / \\\n",
    "  r   t  /\n",
    "   \\____/"
   ]
  },
  {
   "cell_type": "markdown",
   "metadata": {},
   "source": [
    "## Question 9\n",
    "\n",
    "What variables in the above graph can share a register? What variables can't?"
   ]
  },
  {
   "cell_type": "markdown",
   "metadata": {},
   "source": [
    "YOUR ANSWER HERE"
   ]
  }
 ],
 "metadata": {
  "kernelspec": {
   "display_name": "Python 3 (ipykernel)",
   "language": "python",
   "name": "python3"
  },
  "language_info": {
   "codemirror_mode": {
    "name": "ipython",
    "version": 3
   },
   "file_extension": ".py",
   "mimetype": "text/x-python",
   "name": "python",
   "nbconvert_exporter": "python",
   "pygments_lexer": "ipython3",
   "version": "3.10.9"
  }
 },
 "nbformat": 4,
 "nbformat_minor": 4
}
