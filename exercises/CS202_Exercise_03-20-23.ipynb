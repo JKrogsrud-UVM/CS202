{
 "cells": [
  {
   "cell_type": "markdown",
   "metadata": {},
   "source": [
    "# CS202: Compiler Construction\n",
    "\n",
    "## In-class Exercises, Week of 03/20/2023\n",
    "\n",
    "----"
   ]
  },
  {
   "cell_type": "markdown",
   "metadata": {},
   "source": [
    "# Part 1: While Loops"
   ]
  },
  {
   "cell_type": "markdown",
   "metadata": {},
   "source": [
    "## Question 1\n",
    "\n",
    "Compile the following program to $\\mathcal{C}_{if}$:\n",
    "\n",
    "```\n",
    "i = 10\n",
    "sum = 0\n",
    "while i > 0:\n",
    "    i = i - 1\n",
    "    sum = sum + i\n",
    "print(sum)\n",
    "```"
   ]
  },
  {
   "cell_type": "markdown",
   "metadata": {},
   "source": [
    "Output of RCO:\n",
    "```\n",
    "i = 10\n",
    "sum = 0\n",
    "tmp_1 = i > 0\n",
    "while tmp_1:\n",
    "    (compilied statements here)\n",
    "```\n",
    "(this means we'll need to do something special in RCO)\n",
    "\n",
    "Cif version:\n",
    "```\n",
    "start:\n",
    "    i = 10\n",
    "    sum = 0\n",
    "    goto while_test\n",
    "while_test:\n",
    "    if i > 0 then goto while_body else goto cont\n",
    "while_body:\n",
    "    i = i - 1\n",
    "    sum = sum + i\n",
    "    goto while_test\n",
    "cont:\n",
    "    print(sum)\n",
    "```"
   ]
  },
  {
   "cell_type": "markdown",
   "metadata": {},
   "source": [
    "## Question 2\n",
    "\n",
    "Compile the program above into pseudo-x86 assembly."
   ]
  },
  {
   "cell_type": "markdown",
   "metadata": {},
   "source": [
    "```\n",
    "start:\n",
    "    movq 10, #i\n",
    "    movq 0, #sum\n",
    "    jmp while_test\n",
    "while_test:\n",
    "    cmpq $0, #1\n",
    "    jqt while_body\n",
    "    jmp cont\n",
    "while_body:\n",
    "    subq $1, #i\n",
    "    addq #i, #sum\n",
    "    jmp while_test\n",
    "cont:\n",
    "    movq #sum, %rdi\n",
    "    call print_int\n",
    "```"
   ]
  },
  {
   "cell_type": "markdown",
   "metadata": {},
   "source": [
    "## Question 3\n",
    "\n",
    "Describe the major changes to the compiler, up to *select instructions*."
   ]
  },
  {
   "cell_type": "markdown",
   "metadata": {},
   "source": [
    "No new passes.\n",
    "\n",
    "- Typechecker\n",
    "    - Add a case for while loops\n",
    "    - Condition better be a boolean\n",
    "    - Statements better be well-typed\n",
    "- RCO\n",
    "    - Add a case for while loops\n",
    "    - Easy part: run rco_stmts on the body statements of the loop\n",
    "    - Hard part: condition\n",
    "        - Problem: tmp vars created by rco_exp end up outside of the loop\n",
    "        - Solution:\n",
    "            - Construct brand new bindings just for the tmp vars associated with the condition\n",
    "            - Package up resulting Assign statements into a Begin expression\n",
    "                - cond_bindings = {}\n",
    "                - new_cond_exp = rco_exp(cond, cond_bindings)\n",
    "                - create a Begin node with a list of assignment statments for everything in `cond_bindings`, and the expression `new_cond_exp`\n",
    "- Explicate-control\n",
    "    - new case: While(Begin(cond_stmts, cond_exp), body_stmts)\n",
    "    - create a loop shaped control flow graph\n",
    "        - make a new block for the continuation (use create_block)\n",
    "        - make a new block for the body_stmts, with the continuation \"goto test_label\" (use create\n",
    "        - make a new block for the condition, using the label \"test_label\"\n",
    "        - can't use create_block to construct all of them\n",
    "- Select-instructions: no changes\n"
   ]
  },
  {
   "cell_type": "markdown",
   "metadata": {},
   "source": [
    "# Part 2: Dataflow Analysis"
   ]
  },
  {
   "cell_type": "markdown",
   "metadata": {},
   "source": [
    "## Question 4\n",
    "\n",
    "Perform liveness analysis on the pseudo-x86 program from Question 2."
   ]
  },
  {
   "cell_type": "markdown",
   "metadata": {},
   "source": [
    "YOUR ANSWER HERE"
   ]
  },
  {
   "cell_type": "markdown",
   "metadata": {},
   "source": [
    "## Question 5\n",
    "\n",
    "Describe the idea of dataflow analysis on cyclic control-flow graphs."
   ]
  },
  {
   "cell_type": "markdown",
   "metadata": {},
   "source": [
    "YOUR ANSWER HERE"
   ]
  },
  {
   "cell_type": "markdown",
   "metadata": {},
   "source": [
    "## Question 6\n",
    "\n",
    "Use the dataflow-based approach to perform liveness analysis on the pseudo-x86 program above."
   ]
  },
  {
   "cell_type": "markdown",
   "metadata": {},
   "source": [
    "YOUR ANSWER HERE"
   ]
  },
  {
   "cell_type": "markdown",
   "metadata": {},
   "source": [
    "## Question 7\n",
    "\n",
    "How do we know the dataflow analysis will stop (i.e. not loop forever)?"
   ]
  },
  {
   "cell_type": "markdown",
   "metadata": {},
   "source": [
    "YOUR ANSWER HERE"
   ]
  },
  {
   "cell_type": "markdown",
   "metadata": {},
   "source": [
    "## Question 8\n",
    "\n",
    "What changes are required for the rest of the compiler?"
   ]
  },
  {
   "cell_type": "markdown",
   "metadata": {},
   "source": [
    "YOUR ANSWER HERE"
   ]
  }
 ],
 "metadata": {
  "kernelspec": {
   "display_name": "Python 3 (ipykernel)",
   "language": "python",
   "name": "python3"
  },
  "language_info": {
   "codemirror_mode": {
    "name": "ipython",
    "version": 3
   },
   "file_extension": ".py",
   "mimetype": "text/x-python",
   "name": "python",
   "nbconvert_exporter": "python",
   "pygments_lexer": "ipython3",
   "version": "3.10.9"
  }
 },
 "nbformat": 4,
 "nbformat_minor": 4
}
