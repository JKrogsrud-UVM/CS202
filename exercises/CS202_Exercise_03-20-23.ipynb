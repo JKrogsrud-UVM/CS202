{
 "cells": [
  {
   "cell_type": "markdown",
   "metadata": {},
   "source": [
    "# CS202: Compiler Construction\n",
    "\n",
    "## In-class Exercises, Week of 03/20/2023\n",
    "\n",
    "----"
   ]
  },
  {
   "cell_type": "markdown",
   "metadata": {},
   "source": [
    "# Part 1: While Loops"
   ]
  },
  {
   "cell_type": "markdown",
   "metadata": {},
   "source": [
    "## Question 1\n",
    "\n",
    "Compile the following program to $\\mathcal{C}_{if}$:\n",
    "\n",
    "```\n",
    "i = 10\n",
    "sum = 0\n",
    "while i > 0:\n",
    "    i = i - 1\n",
    "    sum = sum + i\n",
    "print(sum)\n",
    "```"
   ]
  },
  {
   "cell_type": "markdown",
   "metadata": {},
   "source": [
    "Output of RCO:\n",
    "```\n",
    "i = 10\n",
    "sum = 0\n",
    "tmp_1 = i > 0\n",
    "while tmp_1:\n",
    "    (compilied statements here)\n",
    "```\n",
    "(this means we'll need to do something special in RCO)\n",
    "\n",
    "Cif version:\n",
    "```\n",
    "start:\n",
    "    i = 10\n",
    "    sum = 0\n",
    "    goto while_test\n",
    "while_test:\n",
    "    if i > 0 then goto while_body else goto cont\n",
    "while_body:\n",
    "    i = i - 1\n",
    "    sum = sum + i\n",
    "    goto while_test\n",
    "cont:\n",
    "    print(sum)\n",
    "```"
   ]
  },
  {
   "cell_type": "markdown",
   "metadata": {},
   "source": [
    "## Question 2\n",
    "\n",
    "Compile the program above into pseudo-x86 assembly."
   ]
  },
  {
   "cell_type": "markdown",
   "metadata": {},
   "source": [
    "```\n",
    "start:\n",
    "    movq 10, #i\n",
    "    movq 0, #sum\n",
    "    jmp while_test\n",
    "while_test:\n",
    "    cmpq $0, #1\n",
    "    jqt while_body\n",
    "    jmp cont\n",
    "while_body:\n",
    "    subq $1, #i\n",
    "    addq #i, #sum\n",
    "    jmp while_test\n",
    "cont:\n",
    "    movq #sum, %rdi\n",
    "    call print_int\n",
    "```"
   ]
  },
  {
   "cell_type": "markdown",
   "metadata": {},
   "source": [
    "## Question 3\n",
    "\n",
    "Describe the major changes to the compiler, up to *select instructions*."
   ]
  },
  {
   "cell_type": "markdown",
   "metadata": {},
   "source": [
    "No new passes.\n",
    "\n",
    "- Typechecker\n",
    "    - Add a case for while loops\n",
    "    - Condition better be a boolean\n",
    "    - Statements better be well-typed\n",
    "- RCO\n",
    "    - Add a case for while loops\n",
    "    - Easy part: run rco_stmts on the body statements of the loop\n",
    "    - Hard part: condition\n",
    "        - Problem: tmp vars created by rco_exp end up outside of the loop\n",
    "        - Solution:\n",
    "            - Construct brand new bindings just for the tmp vars associated with the condition\n",
    "            - Package up resulting Assign statements into a Begin expression\n",
    "                - cond_bindings = {}\n",
    "                - new_cond_exp = rco_exp(cond, cond_bindings)\n",
    "                - create a Begin node with a list of assignment statments for everything in `cond_bindings`, and the expression `new_cond_exp`\n",
    "- Explicate-control\n",
    "    - new case: While(Begin(cond_stmts, cond_exp), body_stmts)\n",
    "    - create a loop shaped control flow graph\n",
    "        - make a new block for the continuation (use create_block)\n",
    "        - make a new block for the body_stmts, with the continuation \"goto test_label\" (use create\n",
    "        - make a new block for the condition, using the label \"test_label\"\n",
    "        - can't use create_block to construct all of them\n",
    "        - two big differences with \"if\": we nee an explicit test block; we cant use create block for every sinhle block we create, becauyse we needd the create a s syckle in the CFG\n",
    "        - process:\n",
    "            - cont_label: use create_block to add 'cont' to the CFG\n",
    "            - test_label = gensym(loop_label)\n",
    "            - body_label = use create_block to add result of the compiling `body_stmts` to the CFG using the test_label as the continuation that is `[cif.Goto(test_label)]`\n",
    "            - compile the test:\n",
    "                - let the cont be `[cif.If(explicate_exp(cond_exp), cif.Goto(body_label), cif.Goto(cont_label)))]`\n",
    "                - compile cond_stmts with this continuation\n",
    "                - `basic_blocks[test_label] =` result of above\n",
    "            - return new continuation `[cif.Goto(test_label)]` \n",
    "- Select-instructions: no changes\n",
    "- Allocate Registers: Specifically dataflow analysis"
   ]
  },
  {
   "cell_type": "markdown",
   "metadata": {},
   "source": [
    "# Part 2: Dataflow Analysis"
   ]
  },
  {
   "cell_type": "markdown",
   "metadata": {},
   "source": [
    "## Question 4\n",
    "\n",
    "Perform liveness analysis on the pseudo-x86 program from Question 2."
   ]
  },
  {
   "cell_type": "markdown",
   "metadata": {},
   "source": [
    "Attempt: Use approach from assignment 3, when we find a jmp go do liveness analysis on the target to get live-before set\n",
    "\n",
    "```\n",
    "start:\n",
    "    movq 10, #i\n",
    "    movq 0, #sum    \n",
    "    jmp while_test  {} <-- start\n",
    "while_test:\n",
    "    cmpq $0, #1\n",
    "    jqt while_body  {sum}\n",
    "    jmp cont        {}\n",
    "while_body:\n",
    "    subq $1, #i\n",
    "    addq #i, #sum\n",
    "    jmp while_test    {}\n",
    "cont:                  {sum}\n",
    "    movq #sum, %rdi   {}\n",
    "    call print_int    {}\n",
    "```\n",
    "\n",
    "SPOILER ALERT: WE WILL GET STUCK in infinite loop - uh oh\n",
    "\n",
    "Problem: to compute live-before of while_body we need live_before of while_test, to compute live_before of while_test we need live_before of while_body."
   ]
  },
  {
   "cell_type": "markdown",
   "metadata": {},
   "source": [
    "## Question 5\n",
    "\n",
    "Describe the idea of dataflow analysis on cyclic control-flow graphs."
   ]
  },
  {
   "cell_type": "markdown",
   "metadata": {},
   "source": [
    "1. Compute live-after sets of each block without worrying about jmps (assume all live-before sets are empty). This is an **underapproximation** of the live-after sets. Variable might be live if we said it isn't so not great.\n",
    "2. Update the live-before sets based on the results of #1.\n",
    "3. Run #1 again until the live-after sets don't change at all. This is called a **fixed point** - there is a provable existance of this"
   ]
  },
  {
   "cell_type": "markdown",
   "metadata": {},
   "source": [
    "## Question 6\n",
    "\n",
    "Use the dataflow-based approach to perform liveness analysis on the pseudo-x86 program above."
   ]
  },
  {
   "cell_type": "markdown",
   "metadata": {},
   "source": [
    "```\n",
    "start:                  {} {}       {}       {}       {}\n",
    "    movq 10, #i            {}       {i}      {i}      {i}\n",
    "    movq 0, #sum           {}       {i}      {i, sum} {i, sum}\n",
    "    jmp while_test         {}       {}       {}       {}\n",
    "while_test:             {} {i}      {i, sum} {i, sum} {i, sum}\n",
    "    cmpq $0, #i            {}       {i, sum} {i, sum} {i, sum}\n",
    "    jgt while_body         {}       {sum}    {sum}    {sum}\n",
    "    jmp cont               {}       {}       {}       {}\n",
    "while_body:             {} {i, sum} {i, sum} {i, sum} {i, sum}\n",
    "    subq $1, #i            {i, sum} {i, sum} {i, sum} {i, sum}\n",
    "    addq #i, #sum          {i}      {i, sum} {i, sum} {i, sum}\n",
    "    jmp while_test         {}       {}       {}       {}\n",
    "cont:                   {} {sum}    {sum}    {sum}    {sum}\n",
    "    movq #sum, %rdi        {}       {}       {}       {}\n",
    "    call print_int         {}       {}       {}       {}\n",
    "```\n",
    "\n",
    "After 4 iterations, nothing changes; so I'm done.\n",
    "\n",
    "Change to the liveness analysis to the compiler:\n",
    " - add a ul_fixedpoint function\n",
    " - while loop:\n",
    "     - make a copy of the current live-after sets\n",
    "     - run ul_block on each block of the program\n",
    "     - exit the while loop if the live-after sets are the same as the copy\n",
    " - initialize live-before sets to be empty for *all* blocks (not just conclusion)\n",
    " - remove the call to ul_block in the jmp case"
   ]
  },
  {
   "cell_type": "markdown",
   "metadata": {},
   "source": [
    "## Question 7\n",
    "\n",
    "How do we know the dataflow analysis will stop (i.e. not loop forever)?"
   ]
  },
  {
   "cell_type": "markdown",
   "metadata": {},
   "source": [
    "Two big questions: \n",
    " - What if live after sets keep changing? Then ul_fixedpoints runs forever.\n",
    "     - There are finitely many variables and blocks in prgram so in worse case every variable is in every live-after set in which case there is nothing we can add to any set so the state cannot change if we run the analysis again.\n",
    " - As we are starting from wrong information, that is all live-after sets are empty. How do we know final answer is correct?\n",
    "     - imagine we somehow knew the correct live-before set for each label\n",
    "     - we could run liveness analysis on the blocks in any order, and get the answer\n",
    "     - Imagine some live-before set is missing a variable that should be there\n",
    "     - Because all other live-before sets are correct the next iteration should fill in the missing variable in that live-before set"
   ]
  },
  {
   "cell_type": "markdown",
   "metadata": {},
   "source": [
    "## Question 8\n",
    "\n",
    "What changes are required for the rest of the compiler?"
   ]
  },
  {
   "cell_type": "markdown",
   "metadata": {},
   "source": [
    "None"
   ]
  }
 ],
 "metadata": {
  "kernelspec": {
   "display_name": "Python 3 (ipykernel)",
   "language": "python",
   "name": "python3"
  },
  "language_info": {
   "codemirror_mode": {
    "name": "ipython",
    "version": 3
   },
   "file_extension": ".py",
   "mimetype": "text/x-python",
   "name": "python",
   "nbconvert_exporter": "python",
   "pygments_lexer": "ipython3",
   "version": "3.10.9"
  }
 },
 "nbformat": 4,
 "nbformat_minor": 4
}
